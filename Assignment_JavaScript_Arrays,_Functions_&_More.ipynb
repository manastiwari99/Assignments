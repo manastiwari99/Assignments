{
  "nbformat": 4,
  "nbformat_minor": 0,
  "metadata": {
    "colab": {
      "provenance": []
    },
    "kernelspec": {
      "name": "python3",
      "display_name": "Python 3"
    },
    "language_info": {
      "name": "python"
    }
  },
  "cells": [
    {
      "cell_type": "markdown",
      "source": [
        "**Question 1 :** Create an object named student with the following properties:\n",
        "\n",
        "● name: \"Rahul\"\n",
        "\n",
        "● age: 21\n",
        "\n",
        "● courses: an array containing \"Math\", \"Physics\", and \"Chemistry\"\n",
        "\n",
        "Then, perform the following operations:\n",
        "1. Add a new property grade with the value \"A\".\n",
        "2. Update the age to 22.\n",
        "3. Delete the courses property.\n",
        "\n",
        "**Ans:**\n"
      ],
      "metadata": {
        "id": "jIC3ObFxqlGv"
      }
    },
    {
      "cell_type": "code",
      "source": [
        "// Step 1: Create the student object\n",
        "let student = {\n",
        "  name: \"Rahul\",\n",
        "  age: 21,\n",
        "  courses: [\"Math\", \"Physics\", \"Chemistry\"]\n",
        "};\n",
        "\n",
        "// Step 2: Add a new property 'grade' with value 'A'\n",
        "student.grade = \"A\";\n",
        "\n",
        "// Step 3: Update the age to 22\n",
        "student.age = 22;\n",
        "\n",
        "// Step 4: Delete the 'courses' property\n",
        "delete student.courses;\n",
        "\n",
        "// Output the final student object\n",
        "console.log(student);\n"
      ],
      "metadata": {
        "id": "9AyhuIbcrePa"
      },
      "execution_count": null,
      "outputs": []
    },
    {
      "cell_type": "markdown",
      "source": [
        "**Final student object:**"
      ],
      "metadata": {
        "id": "NsXrXpM_rqWJ"
      }
    },
    {
      "cell_type": "code",
      "source": [
        "{\n",
        "  name: \"Rahul\",\n",
        "  age: 22,\n",
        "  grade: \"A\"\n",
        "}"
      ],
      "metadata": {
        "id": "v5p65VcvrsUi"
      },
      "execution_count": null,
      "outputs": []
    },
    {
      "cell_type": "markdown",
      "source": [
        "**Question 2:** Write a function checkEligibility that takes an age as a parameter\n",
        "and returns:\n",
        "\n",
        "● \"Eligible\" if age is 18 or above\n",
        "\n",
        "● \"Not Eligible\" if age is below 18\n",
        "\n",
        "Use an if-else statement.\n",
        "\n",
        "\n",
        "**Ans:**\n",
        "\n",
        "Here's how you can write the checkEligibility function using an if-else statement."
      ],
      "metadata": {
        "id": "gtv9V4crrx_g"
      }
    },
    {
      "cell_type": "code",
      "source": [
        "function checkEligibility(age) {\n",
        "  if (age >= 18) {\n",
        "    return \"Eligible\";\n",
        "  } else {\n",
        "    return \"Not Eligible\";\n",
        "  }\n",
        "}\n",
        "\n",
        "// Example usage:\n",
        "console.log(checkEligibility(20)); // Output: \"Eligible\"\n",
        "console.log(checkEligibility(16)); // Output: \"Not Eligible\"\n"
      ],
      "metadata": {
        "id": "D02KvetEsMVZ"
      },
      "execution_count": null,
      "outputs": []
    },
    {
      "cell_type": "markdown",
      "source": [
        "**Question 3:** Write a function getDayName that takes a number (1-7) and returns the corresponding day of the week. Use a switch statement.\n",
        "\n",
        "**Ans:**\n",
        "\n",
        "Here's how you can write the getDayName function using a switch statement in JavaScript:"
      ],
      "metadata": {
        "id": "zZeLv4BwsOf9"
      }
    },
    {
      "cell_type": "code",
      "source": [
        "function getDayName(dayNumber) {\n",
        "  switch (dayNumber) {\n",
        "    case 1:\n",
        "      return \"Sunday\";\n",
        "    case 2:\n",
        "      return \"Monday\";\n",
        "    case 3:\n",
        "      return \"Tuesday\";\n",
        "    case 4:\n",
        "      return \"Wednesday\";\n",
        "    case 5:\n",
        "      return \"Thursday\";\n",
        "    case 6:\n",
        "      return \"Friday\";\n",
        "    case 7:\n",
        "      return \"Saturday\";\n",
        "    default:\n",
        "      return \"Invalid day number\";\n",
        "  }\n",
        "}\n",
        "\n",
        "// Example usage:\n",
        "console.log(getDayName(3)); // Output: \"Tuesday\"\n",
        "console.log(getDayName(7)); // Output: \"Saturday\"\n",
        "console.log(getDayName(9)); // Output: \"Invalid day number\"\n"
      ],
      "metadata": {
        "id": "z7CakNp7sfdK"
      },
      "execution_count": null,
      "outputs": []
    },
    {
      "cell_type": "markdown",
      "source": [
        "**Question 4:** Rewrite the checkEligibility function from Question 2 using the\n",
        "ternary operator.\n",
        "\n",
        "**Ans:**\n",
        "\n"
      ],
      "metadata": {
        "id": "qj8hU2-asjto"
      }
    },
    {
      "cell_type": "code",
      "source": [
        "function checkEligibility(age) {\n",
        "  return age >= 18 ? \"Eligible\" : \"Not Eligible\";\n",
        "}\n",
        "\n",
        "// Example usage:\n",
        "console.log(checkEligibility(20)); // Output: \"Eligible\"\n",
        "console.log(checkEligibility(16)); // Output: \"Not Eligible\"\n"
      ],
      "metadata": {
        "id": "xAmiSQXnsw4c"
      },
      "execution_count": null,
      "outputs": []
    },
    {
      "cell_type": "markdown",
      "source": [
        "**Question 5:** Given an array numbers = [1, 2, 3, 4, 5], perform the following:\n",
        "1. Use a for loop to print each number.\n",
        "2. Use a while loop to print each number.\n",
        "3. Use a for-in loop to print each index.\n",
        "4. Use a for-of loop to print each number.\n",
        "\n",
        "**Ans:**\n"
      ],
      "metadata": {
        "id": "zk3IxwJQsyfZ"
      }
    },
    {
      "cell_type": "code",
      "source": [
        "let numbers = [1, 2, 3, 4, 5];\n",
        "\n",
        "// 1. Use a for loop to print each number\n",
        "console.log(\"Using for loop:\");\n",
        "for (let i = 0; i < numbers.length; i++) {\n",
        "  console.log(numbers[i]);\n",
        "}\n",
        "\n",
        "// 2. Use a while loop to print each number\n",
        "console.log(\"Using while loop:\");\n",
        "let i = 0;\n",
        "while (i < numbers.length) {\n",
        "  console.log(numbers[i]);\n",
        "  i++;\n",
        "}\n",
        "\n",
        "// 3. Use a for-in loop to print each index\n",
        "console.log(\"Using for-in loop:\");\n",
        "for (let index in numbers) {\n",
        "  console.log(index);\n",
        "}\n",
        "\n",
        "// 4. Use a for-of loop to print each number\n",
        "console.log(\"Using for-of loop:\");\n",
        "for (let num of numbers) {\n",
        "  console.log(num);\n",
        "}\n"
      ],
      "metadata": {
        "id": "k_-y0a_rtCcM"
      },
      "execution_count": null,
      "outputs": []
    },
    {
      "cell_type": "markdown",
      "source": [
        "**Question 6:** Explain what functions are in JavaScript and provide an example of a function that adds two numbers.\n",
        "\n",
        "**Ans:**\n",
        "\n",
        "In JavaScript, a function is a block of reusable code designed to perform a specific task. Functions help keep code organized, modular, and easy to debug.\n",
        "You can define a function once and use (or \"call\") it multiple times with different inputs.\n"
      ],
      "metadata": {
        "id": "pRJ8_FzbtF01"
      }
    },
    {
      "cell_type": "code",
      "source": [
        "function addNumbers(a, b) {\n",
        "  return a + b;\n",
        "}\n",
        "\n",
        "// Example usage:\n",
        "let sum = addNumbers(5, 3);\n",
        "console.log(sum); // Output: 8\n"
      ],
      "metadata": {
        "id": "Xj-5iudltosn"
      },
      "execution_count": null,
      "outputs": []
    },
    {
      "cell_type": "markdown",
      "source": [
        "**Question 7:** Convert the add function from Question 6 into an arrow function.\n",
        "\n",
        "**Ans:**"
      ],
      "metadata": {
        "id": "i-uCV8JvtrJW"
      }
    },
    {
      "cell_type": "code",
      "source": [
        "const addNumbers = (a, b) => a + b;\n",
        "\n",
        "// Example usage:\n",
        "let sum = addNumbers(5, 3);\n",
        "console.log(sum); // Output: 8\n"
      ],
      "metadata": {
        "id": "utYcGGp5uC-f"
      },
      "execution_count": null,
      "outputs": []
    },
    {
      "cell_type": "markdown",
      "source": [
        "**Question 8:** Write a function greet that takes a name and a callback function. The greet function should call the callback with the name\n",
        "\n",
        "**Ans:**\n",
        "\n"
      ],
      "metadata": {
        "id": "BIq8RyXCuD0P"
      }
    },
    {
      "cell_type": "code",
      "source": [
        "function greet(name, callback) {\n",
        "  callback(name);\n",
        "}\n",
        "\n",
        "// Example callback function\n",
        "function sayHello(name) {\n",
        "  console.log(\"Hello, \" + name + \"!\");\n",
        "}\n",
        "\n",
        "// Using the greet function\n",
        "greet(\"Rahul\", sayHello); // Output: Hello, Rahul!\n"
      ],
      "metadata": {
        "id": "nDteXK3HuVN8"
      },
      "execution_count": null,
      "outputs": []
    },
    {
      "cell_type": "markdown",
      "source": [
        "**Question 9:** Given the array:\n",
        "\n",
        "const fruits = [\"apple\", \"banana\", \"cherry\"];\n",
        "1. What is the length of the array?\n",
        "2. Add \"date\" to the end of the array using the length property.\n",
        "\n",
        "**Ans:**\n",
        "\n",
        "1. What is the length of the array?\n",
        "\n",
        "\n"
      ],
      "metadata": {
        "id": "NhnA5QCXuZ6u"
      }
    },
    {
      "cell_type": "code",
      "source": [
        "console.log(fruits.length); // Output: 3\n"
      ],
      "metadata": {
        "id": "wVunHj1LutZ4"
      },
      "execution_count": null,
      "outputs": []
    },
    {
      "cell_type": "markdown",
      "source": [
        "2. Add \"date\" to the end of the array using the length property:"
      ],
      "metadata": {
        "id": "WETZAuVDuwjZ"
      }
    },
    {
      "cell_type": "code",
      "source": [
        "fruits[fruits.length] = \"date\";\n",
        "console.log(fruits); // Output: [\"apple\", \"banana\", \"cherry\", \"date\"]"
      ],
      "metadata": {
        "id": "xuMfIjwZu0Sr"
      },
      "execution_count": null,
      "outputs": []
    },
    {
      "cell_type": "markdown",
      "source": [
        "**Question 10:** Given the string text = \" Hello World! \", perform the following:\n",
        "1. Trim the whitespace.\n",
        "2. Convert to uppercase.\n",
        "3. Check if it includes \"World\".\n",
        "\n",
        "**Ans:**\n",
        "\n",
        " Trim the whitespace:"
      ],
      "metadata": {
        "id": "8v4tU2Kyu_rx"
      }
    },
    {
      "cell_type": "code",
      "source": [
        "let trimmedText = text.trim();\n",
        "console.log(trimmedText); // Output: \"Hello World!\"\n"
      ],
      "metadata": {
        "id": "sTJRLUM0vPJq"
      },
      "execution_count": null,
      "outputs": []
    },
    {
      "cell_type": "markdown",
      "source": [
        "Convert to uppercase:"
      ],
      "metadata": {
        "id": "T3Wc04JmvR5F"
      }
    },
    {
      "cell_type": "code",
      "source": [
        "let upperText = trimmedText.toUpperCase();\n",
        "console.log(upperText); // Output: \"HELLO WORLD!\"\n"
      ],
      "metadata": {
        "id": "St8cMPw1vWM4"
      },
      "execution_count": null,
      "outputs": []
    },
    {
      "cell_type": "markdown",
      "source": [
        "Check if it includes \"World\":"
      ],
      "metadata": {
        "id": "6XxdcoGwvYFQ"
      }
    },
    {
      "cell_type": "code",
      "source": [
        "let containsWorld = trimmedText.includes(\"World\");\n",
        "console.log(containsWorld); // Output: true\n"
      ],
      "metadata": {
        "id": "rKkC61SJvbme"
      },
      "execution_count": null,
      "outputs": []
    },
    {
      "cell_type": "markdown",
      "source": [
        "**Question 11:** Given the array numbers = [1, 2, 3, 4, 5], perform the following:\n",
        "1. Add 6 to the end.\n",
        "2. Remove the first element.\n",
        "3. Find the index of 4.\n",
        "4. Check if all numbers are greater than 0.\n",
        "\n",
        "**Ans:**\n",
        "\n",
        "1. Add 6 to the end:"
      ],
      "metadata": {
        "id": "ofFX-PQkveXE"
      }
    },
    {
      "cell_type": "code",
      "source": [
        "numbers.push(6);\n",
        "console.log(numbers); // Output: [1, 2, 3, 4, 5, 6]"
      ],
      "metadata": {
        "id": "qMcyMfnDvvPT"
      },
      "execution_count": null,
      "outputs": []
    },
    {
      "cell_type": "markdown",
      "source": [
        "2. Remove the first element:"
      ],
      "metadata": {
        "id": "Q3vLgy-Gvy5f"
      }
    },
    {
      "cell_type": "code",
      "source": [
        "numbers.shift();\n",
        "console.log(numbers); // Output: [2, 3, 4, 5, 6]"
      ],
      "metadata": {
        "id": "jN0gTw25v28l"
      },
      "execution_count": null,
      "outputs": []
    },
    {
      "cell_type": "markdown",
      "source": [
        " 3. Find the index of 4:"
      ],
      "metadata": {
        "id": "vSJ8LsE4v-bX"
      }
    },
    {
      "cell_type": "code",
      "source": [
        "let indexOfFour = numbers.indexOf(4);\n",
        "console.log(indexOfFour); // Output: 2"
      ],
      "metadata": {
        "id": "-fp9QRc2v_Z7"
      },
      "execution_count": null,
      "outputs": []
    },
    {
      "cell_type": "markdown",
      "source": [
        " 4. Check if all numbers are greater than 0:"
      ],
      "metadata": {
        "id": "zCuoM9c8wHbP"
      }
    },
    {
      "cell_type": "code",
      "source": [
        "let allGreaterThanZero = numbers.every(num => num > 0);\n",
        "console.log(allGreaterThanZero); // Output: true"
      ],
      "metadata": {
        "id": "wm1fOADnwIaF"
      },
      "execution_count": null,
      "outputs": []
    }
  ]
}