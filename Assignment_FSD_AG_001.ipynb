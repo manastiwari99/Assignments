{
  "nbformat": 4,
  "nbformat_minor": 0,
  "metadata": {
    "colab": {
      "provenance": []
    },
    "kernelspec": {
      "name": "python3",
      "display_name": "Python 3"
    },
    "language_info": {
      "name": "python"
    }
  },
  "cells": [
    {
      "cell_type": "markdown",
      "source": [
        "**Question 1 : Explain the basic structure of an HTML page. Why is it important to follow this structure?**\n",
        "\n",
        "**ANSWER:**\n",
        " An HTML (HyperText Markup Language) page is structured using specific elements and tags that define the content and layout of a web page. The basic structure of an HTML page looks like this:\n"
      ],
      "metadata": {
        "id": "koqQ9e4JIkFP"
      }
    },
    {
      "cell_type": "code",
      "source": [
        "<!DOCTYPE html>\n",
        "<html>\n",
        "<head>\n",
        "    <title>Page Title</title>\n",
        "    <meta charset=\"UTF-8\">\n",
        "    <meta name=\"viewport\" content=\"width=device-width, initial-scale=1.0\">\n",
        "\n",
        "</head>\n",
        "<body>\n",
        "    <h1>Welcome to My Website</h1>\n",
        "    <p>This is a paragraph.</p>\n",
        "\n",
        "</body>\n",
        "</html>\n"
      ],
      "metadata": {
        "id": "BoG5hvT1I1O6"
      },
      "execution_count": null,
      "outputs": []
    },
    {
      "cell_type": "markdown",
      "source": [
        "**Explanation of Key Elements**\n",
        "`<!DOCTYPE html>`\n",
        "\n",
        "Declares the document type and version of HTML being used (HTML5 in this case.Helps browsers render the page correctly.\n",
        "\n",
        "`<html>`\n",
        "\n",
        "Root element of the HTML document. Contains all other elements on the page.\n",
        "\n",
        "`<head>`\n",
        "\n",
        "Contains meta-information about the document (not displayed on the web page.Includes elements like `<title>, <meta>,` links to stylesheets, and scripts.\n",
        "\n",
        "`<title>`\n",
        "\n",
        "Sets the title of the page shown in the browser tab.\n",
        "\n",
        "`<meta>`\n",
        "\n",
        "Provides metadata such as character encoding and responsive settings.\n",
        "\n",
        "`<body>`\n",
        "\n",
        "Contains all the content that will be displayed to users, like text, images, links, etc.\n",
        "\n",
        "**Importance of Following This Structure**\n",
        "\n",
        "1. **Browser Compatibility:** Browsers rely on a consistent structure to correctly interpret and render content.\n",
        "2.  **Search Engine Optimization (SEO):**   A well-structured HTML document is easier for search engines to crawl and index.\n",
        "3.   **Accessibility:**  Screen readers and assistive technologies depend on a predictable HTML layout to help users navigate.\n",
        "4. **Maintainability:** Clean, standardized code is easier to read, update, and debug.\n",
        "5.  **Standards Compliance:** Following HTML standards ensures the site behaves consistently across different devices and platforms.\n",
        "\n",
        "\n",
        "\n",
        "\n",
        "\n",
        "\n",
        "\n",
        "\n"
      ],
      "metadata": {
        "id": "5cC4Y825Ma_U"
      }
    },
    {
      "cell_type": "markdown",
      "source": [
        "**Question 2: You’re building a small personal profile page. Which HTML tags will you use to highlight your name as a heading, describe yourself in a paragraph and emphasize a key skill?**\n",
        "\n",
        "**ANSWER:**\n",
        "\n",
        "**Recommended HTML Tags:**\n",
        "*   `<h1>` – To highlight your name as a heading\n",
        "*`<p> `– To describe yourself in a paragraph\n",
        "*  `<em>` or `<strong>` – To emphasize a key skill\n"
      ],
      "metadata": {
        "id": "v681KjqvaKXM"
      }
    },
    {
      "cell_type": "code",
      "source": [
        "<!DOCTYPE html>\n",
        "<html>\n",
        "<head>\n",
        "    <title>My Profile</title>\n",
        "</head>\n",
        "<body>\n",
        "\n",
        "    <h1>Jane Doe</h1> <!-- Name as a heading -->\n",
        "\n",
        "    <p>\n",
        "        Hello! I'm a passionate web developer with a love for clean code and user-friendly design. I enjoy learning new technologies and building creative projects.\n",
        "    </p> <!-- Description paragraph -->\n",
        "\n",
        "    <p>\n",
        "        One of my strongest skills is <strong>JavaScript</strong>, which I use to build dynamic and interactive websites.\n",
        "    </p> <!-- Emphasizing a key skill -->\n",
        "\n",
        "</body>\n",
        "</html>\n"
      ],
      "metadata": {
        "id": "xBbMohbHbJ5u"
      },
      "execution_count": null,
      "outputs": []
    },
    {
      "cell_type": "markdown",
      "source": [
        "**Explanation:**\n",
        "*   `<h1>` is typically used for the main heading (your name in this case).\n",
        "*  `<p>` tags are used for general text content like a personal description.\n",
        "*   `<strong>` is used to give strong importance (visually bolded and semantically meaningful for screen readers).\n",
        "*   You could also use `<em>` (emphasis, usually italic) if the intent is to\n",
        "highlight it in a subtler way."
      ],
      "metadata": {
        "id": "7AvkKinlbRnJ"
      }
    },
    {
      "cell_type": "markdown",
      "source": [
        "**Question 3: Look at the code below. Can you find and fix the mistake?**\n",
        "\n",
        "`<!-- This is an HTML comment`\n",
        "\n",
        "`<h1>Welcome to my website</h1>`\n",
        "\n",
        "**ANSWER:**\n",
        "The HTML comment is not properly closed. A correct comment must begin with `<!-- and end with -->.`\n",
        "\n",
        "Here’s the incorrect code:"
      ],
      "metadata": {
        "id": "f_Hcccaub4OU"
      }
    },
    {
      "cell_type": "code",
      "source": [
        "<!-- This is an HTML comment\n",
        "<h1>Welcome to my website</h1>\n"
      ],
      "metadata": {
        "id": "OWtXdZnpcyQJ"
      },
      "execution_count": null,
      "outputs": []
    },
    {
      "cell_type": "markdown",
      "source": [
        "Since the comment is not closed with -->, the browser will treat the entire rest of the code as part of the comment and not render the heading.\n",
        "\n",
        "**The Fixed Code:**"
      ],
      "metadata": {
        "id": "qVxMt-A6c3zh"
      }
    },
    {
      "cell_type": "code",
      "source": [
        "<!-- This is an HTML comment -->\n",
        "<h1>Welcome to my website</h1>\n"
      ],
      "metadata": {
        "id": "ylKvJJgAdPAF"
      },
      "execution_count": null,
      "outputs": []
    },
    {
      "cell_type": "markdown",
      "source": [
        "Now:\n",
        "\n",
        "The comment is properly closed.\n",
        "\n",
        "The `<h1>` heading will display as expected."
      ],
      "metadata": {
        "id": "9gVa0PaCdVYM"
      }
    },
    {
      "cell_type": "markdown",
      "source": [
        "**Question 4: You’re creating a form that asks the user to enter their name, select their country from a list, and click a button to submit. Write the HTML code for this.**\n",
        "\n",
        "**ANSWER:**\n",
        "\n",
        "\n"
      ],
      "metadata": {
        "id": "-xip3nkvdaom"
      }
    },
    {
      "cell_type": "code",
      "source": [
        "<!DOCTYPE html>\n",
        "<html>\n",
        "<head>\n",
        "    <title>User Form</title>\n",
        "</head>\n",
        "<body>\n",
        "\n",
        "    <h2>User Information Form</h2>\n",
        "\n",
        "    <form action=\"/submit\" method=\"post\">\n",
        "        <!-- Name input -->\n",
        "        <label for=\"name\">Name:</label>\n",
        "        <input type=\"text\" id=\"name\" name=\"name\" required><br><br>\n",
        "\n",
        "        <!-- Country selection -->\n",
        "        <label for=\"country\">Country:</label>\n",
        "        <select id=\"country\" name=\"country\" required>\n",
        "            <option value=\"\">--Select your country--</option>\n",
        "            <option value=\"ind\">India</option>\n",
        "            <option value=\"us\">United States</option>\n",
        "            <option value=\"uk\">United Kingdom</option>\n",
        "            <option value=\"ca\">Canada</option>\n",
        "            <option value=\"au\">Australia</option>\n",
        "            <!-- Add more countries as needed -->\n",
        "        </select><br><br>\n",
        "\n",
        "        <!-- Submit button -->\n",
        "        <button type=\"submit\">Submit</button>\n",
        "    </form>\n",
        "\n",
        "</body>\n",
        "</html>\n"
      ],
      "metadata": {
        "id": "JAb53JqWd5lA"
      },
      "execution_count": null,
      "outputs": []
    },
    {
      "cell_type": "markdown",
      "source": [
        "**Question 5: Write short HTML code to show your favorite fruits in a bulleted list and your top 3 programming languages in a numbered list.**\n",
        "\n",
        "**ANSWER:**\n",
        "\n"
      ],
      "metadata": {
        "id": "bmDsJm8ZePBK"
      }
    },
    {
      "cell_type": "code",
      "source": [
        "<!DOCTYPE html>\n",
        "<html>\n",
        "<head>\n",
        "    <title>Favorites</title>\n",
        "</head>\n",
        "<body>\n",
        "\n",
        "    <h2>My Favorite Fruits</h2>\n",
        "    <ul>\n",
        "        <li>Mango</li>\n",
        "        <li>Strawberry</li>\n",
        "        <li>Banana</li>\n",
        "    </ul>\n",
        "\n",
        "    <h2>My Top 3 Programming Languages</h2>\n",
        "    <ol>\n",
        "        <li>JavaScript</li>\n",
        "        <li>Python</li>\n",
        "        <li>Java</li>\n",
        "    </ol>\n",
        "\n",
        "</body>\n",
        "</html>\n"
      ],
      "metadata": {
        "id": "GaUIXxSEetik"
      },
      "execution_count": null,
      "outputs": []
    },
    {
      "cell_type": "markdown",
      "source": [
        "**Question 6: Ravi wants to leave a note in his HTML file so that only other developers can see it, not the users on the website. How should he do this? Why are such notes useful?**\n",
        "\n",
        "**ANSWER:**\n",
        "\n",
        "**How Ravi Should Leave a Note (Comment) in HTML:**\n",
        "\n",
        "Ravi can use HTML comments, which are not displayed on the website but are visible in the source code for developers. The correct syntax is:\n"
      ],
      "metadata": {
        "id": "_vqvKa4Re02-"
      }
    },
    {
      "cell_type": "code",
      "source": [
        "<!-- This is a developer note: Remember to update the footer links -->\n"
      ],
      "metadata": {
        "id": "tBHR6cmufYQk"
      },
      "execution_count": null,
      "outputs": []
    },
    {
      "cell_type": "markdown",
      "source": [
        "This line will not be shown on the actual webpage when viewed in a browser.\n",
        "\n",
        "**Why Are Such Notes Useful?**\n",
        "\n",
        "1.   **Communication Between Developers:**\n",
        "Comments help teams understand the purpose of certain parts of the code, especially in collaborative projects.\n",
        "2.   **Code Maintenance:**\n",
        "When Ravi or another developer revisits the code later, comments can explain complex logic or remind them of things to fix or improve.\n",
        "3.   **Temporarily Disable Code:**\n",
        "Developers can use comments to hide code blocks during testing without deleting them.\n",
        "4. **Documentation:**Comments can serve as quick documentation right inside the code, reducing the need to refer to external notes.\n",
        "\n",
        "\n",
        "\n",
        "> **Use comments wisely—keep them short, relevant, and up to date so they don’t confuse others or become misleading**.\n",
        "\n",
        "\n",
        "\n",
        "\n"
      ],
      "metadata": {
        "id": "kXGqi3A8faFU"
      }
    },
    {
      "cell_type": "markdown",
      "source": [
        "**Question 7: Here’s a form snippet. Can you spot the error and rewrite the correct version?**\n",
        "`<form>`\n",
        "\n",
        "` <input name=\"email\">`\n",
        "\n",
        " `<select>`\n",
        "\n",
        "` <option>India</option>`\n",
        "\n",
        "` </select>`\n",
        "\n",
        "` <button>Send</buton>`\n",
        "\n",
        "`</form>`\n",
        "\n",
        "**ANSWER:**\n",
        "\n",
        " **Errors in the Original Code:**"
      ],
      "metadata": {
        "id": "VpjmMWhRg51G"
      }
    },
    {
      "cell_type": "code",
      "source": [
        "<form>\n",
        " <input name=\"email\">\n",
        " <select>\n",
        " <option>India</option>\n",
        " </select>\n",
        " <button>Send</buton>\n",
        "</form>\n"
      ],
      "metadata": {
        "id": "nr_2a3Oxhrz1"
      },
      "execution_count": null,
      "outputs": []
    },
    {
      "cell_type": "markdown",
      "source": [
        "\n",
        "1.  Missing type attribute for `<input>` – Without it, browsers may default to text, but it’s better to specify it (e.g., type=\"email\").\n",
        "2.  Unclosed or misspelled closing tag for` <button> `– Should be` </button>`, not `</buton>`.\n",
        "2.  Optional but good practice: Add name attributes to all inputs for proper form submission.\n",
        "\n",
        "\n",
        "\n",
        "**Corrected Version Of Code:**"
      ],
      "metadata": {
        "id": "PYyRJE0ZhtM_"
      }
    },
    {
      "cell_type": "code",
      "source": [
        "<form>\n",
        "  <input type=\"email\" name=\"email\" placeholder=\"Enter your email\">\n",
        "\n",
        "  <select name=\"country\">\n",
        "    <option value=\"india\">India</option>\n",
        "  </select>\n",
        "\n",
        "  <button type=\"submit\">Send</button>\n",
        "</form>\n"
      ],
      "metadata": {
        "id": "kSuCdIHUi1NX"
      },
      "execution_count": null,
      "outputs": []
    },
    {
      "cell_type": "markdown",
      "source": [
        "**Improvements Made:**\n",
        "\n",
        "\n",
        "* Added type=\"email\" to validate email input.\n",
        "*  Corrected `</buton> `to `</button>`.\n",
        "*   Added name=\"country\" for form data submission.\n",
        "*   Included a placeholder for better user experience.\n",
        "\n",
        "\n",
        "\n",
        "\n"
      ],
      "metadata": {
        "id": "eOKdwEEhi_gK"
      }
    }
  ]
}