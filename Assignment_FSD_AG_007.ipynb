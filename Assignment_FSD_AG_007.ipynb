{
  "nbformat": 4,
  "nbformat_minor": 0,
  "metadata": {
    "colab": {
      "provenance": []
    },
    "kernelspec": {
      "name": "python3",
      "display_name": "Python 3"
    },
    "language_info": {
      "name": "python"
    }
  },
  "cells": [
    {
      "cell_type": "markdown",
      "source": [
        "**Question 1 :** Write code that creates a new paragraph element with the text \"Welcome to our website!\" and adds it to a div with the id \"content\" on the webpage. Explain what createElement and appendChild methods do.\n",
        "\n",
        "**ANS:**\n"
      ],
      "metadata": {
        "id": "vUCEKKJCEhSy"
      }
    },
    {
      "cell_type": "code",
      "source": [
        "// Create a new paragraph element\n",
        "const paragraph = document.createElement(\"p\");\n",
        "\n",
        "// Set the text content of the paragraph\n",
        "paragraph.textContent = \"Welcome to our website!\";\n",
        "\n",
        "// Find the div with the id \"content\"\n",
        "const contentDiv = document.getElementById(\"content\");\n",
        "\n",
        "// Add the paragraph to the div\n",
        "contentDiv.appendChild(paragraph);\n"
      ],
      "metadata": {
        "id": "LDK45FhvE8FC"
      },
      "execution_count": null,
      "outputs": []
    },
    {
      "cell_type": "markdown",
      "source": [
        "**createElement():**\n",
        "\n",
        "* **What it does:** This method creates a new HTML element in memory (not yet visible on the page).\n",
        "\n",
        "* **Example here:**\n",
        "document.createElement(\"p\") creates a new <p> (paragraph) element.\n",
        "\n",
        "**appendChild():**\n",
        "\n",
        "* **What it does:** This method adds (appends) a child node to a parent node in the DOM.\n",
        "\n",
        "* **Example here:**\n",
        "contentDiv.appendChild(paragraph) adds the newly created paragraph into the div with ID \"content\" so it becomes part of the visible webpage."
      ],
      "metadata": {
        "id": "RDPjyR35E-qr"
      }
    },
    {
      "cell_type": "markdown",
      "source": [
        "**Question 2 :** You need to change the appearance of a button when users hover over it. Write code that finds a button with id \"myButton\" and changes its background color to blue and text color to white using the element.style property.\n",
        "\n",
        "**ANS:**"
      ],
      "metadata": {
        "id": "Neyu3gUWFgm0"
      }
    },
    {
      "cell_type": "code",
      "source": [
        "// Find the button element by its ID\n",
        "const button = document.getElementById(\"myButton\");\n",
        "\n",
        "// Add an event listener for mouse hover (mouseover)\n",
        "button.addEventListener(\"mouseover\", function () {\n",
        "  button.style.backgroundColor = \"blue\"; // Change background to blue\n",
        "  button.style.color = \"white\";          // Change text color to white\n",
        "});\n",
        "\n",
        "// Add an event listener for when the mouse leaves the button (mouseout)\n",
        "button.addEventListener(\"mouseout\", function () {\n",
        "  button.style.backgroundColor = \"\"; // Reset to original background\n",
        "  button.style.color = \"\";           // Reset to original text color\n",
        "});\n"
      ],
      "metadata": {
        "id": "gTbeiVfNFxT1"
      },
      "execution_count": null,
      "outputs": []
    },
    {
      "cell_type": "markdown",
      "source": [
        "**Question 3 :** Create a button that shows an alert with the message \"Button was clicked!\" when clicked. Also, add a second event listener to the same button that changes its text to \"Clicked!\" after being clicked. Explain why addEventListener is better than using onclick.\n",
        "\n",
        "**ANS:**\n"
      ],
      "metadata": {
        "id": "r9R1gqHoF4Hx"
      }
    },
    {
      "cell_type": "code",
      "source": [
        "<!-- HTML -->\n",
        "<button id=\"myButton\">Click Me</button>\n",
        "\n",
        "<script>\n",
        "  // Find the button by ID\n",
        "  const button = document.getElementById(\"myButton\");\n",
        "\n",
        "  // First event listener: show an alert\n",
        "  button.addEventListener(\"click\", function () {\n",
        "    alert(\"Button was clicked!\");\n",
        "  });\n",
        "\n",
        "  // Second event listener: change button text\n",
        "  button.addEventListener(\"click\", function () {\n",
        "    button.textContent = \"Clicked!\";\n",
        "  });\n",
        "</script>\n"
      ],
      "metadata": {
        "id": "NTZI9xEqGSey"
      },
      "execution_count": null,
      "outputs": []
    },
    {
      "cell_type": "markdown",
      "source": [
        "**Question 4 :** Write a function named extractDomain that takes an email string like \"john@example.com\" and returns the domain part (\"example.com\") using only string methods. Do not use regular expressions.\n",
        "\n",
        "**ANS:**\n"
      ],
      "metadata": {
        "id": "-0J4sB_qGV07"
      }
    },
    {
      "cell_type": "code",
      "source": [
        "function extractDomain(email) {\n",
        "  // Find the index of the \"@\" symbol\n",
        "  const atIndex = email.indexOf(\"@\");\n",
        "\n",
        "  // Return the substring starting after the \"@\"\n",
        "  return email.substring(atIndex + 1);\n",
        "}\n",
        "\n",
        "// Example usage:\n",
        "const domain = extractDomain(\"john@example.com\");\n",
        "console.log(domain); // Output: \"example.com\"\n"
      ],
      "metadata": {
        "id": "QaqJTe3tGxDx"
      },
      "execution_count": null,
      "outputs": []
    },
    {
      "cell_type": "markdown",
      "source": [
        "**Question 5 :** Write a function called repeatMessage that takes a message string and a number, and returns the message repeated that many times, separated by a space. Do not use loops.\n",
        "\n",
        "**Example:**\n",
        "repeatMessage(\"hello\", 3) should return \"hello hello hello\"\n"
      ],
      "metadata": {
        "id": "fjbrfAOgG0Wl"
      }
    },
    {
      "cell_type": "code",
      "source": [
        "function repeatMessage(message, count) {\n",
        "  return Array(count).fill(message).join(\" \");\n",
        "}\n",
        "\n",
        "// Example usage:\n",
        "const result = repeatMessage(\"hello\", 3);\n",
        "console.log(result); // Output: \"hello hello hello\"\n"
      ],
      "metadata": {
        "id": "eQnDlpXAHWaK"
      },
      "execution_count": null,
      "outputs": []
    },
    {
      "cell_type": "markdown",
      "source": [
        "**Question 6 :** Explain what the Event Loop is in JavaScript and predict the output of the following code. Also explain why the output appears in that specific order.\n",
        "\n",
        "```\n",
        "console.log('Start');\n",
        "setTimeout(function() {\n",
        "console.log('Timeout 1');\n",
        "}, 0);\n",
        "console.log('Middle');\n",
        "setTimeout(function() {\n",
        "console.log('Timeout 2');\n",
        "}, 0);\n",
        "console.log('End');\n",
        "```\n",
        "\n",
        "**ANS:**\n",
        "\n",
        "The Event Loop is a fundamental part of JavaScript’s concurrency model. It handles how asynchronous operations (like setTimeout, promises, and events) are executed after the synchronous code finishes.\n",
        "\n",
        "JavaScript is single-threaded, meaning it can only do one thing at a time. But thanks to the event loop, it can handle tasks like timers, user interactions, or API calls asynchronously, without blocking the main thread.\n",
        "\n",
        "**Predicted Output:**\n"
      ],
      "metadata": {
        "id": "cjt5XXTzHclB"
      }
    },
    {
      "cell_type": "code",
      "source": [
        "Start\n",
        "Middle\n",
        "End\n",
        "Timeout 1\n",
        "Timeout 2\n"
      ],
      "metadata": {
        "id": "WQAWkXU8IiGk"
      },
      "execution_count": null,
      "outputs": []
    },
    {
      "cell_type": "markdown",
      "source": [
        "**Why This Order?**\n",
        "\n",
        "1. console.log('Start'): Runs immediately — it’s synchronous.\n",
        "\n",
        "2. setTimeout(..., 0): Schedules the first callback to run after 0 ms, but it’s deferred and placed in the callback queue.\n",
        "\n",
        "3. console.log('Middle'): Runs immediately.\n",
        "\n",
        "4. Another setTimeout(..., 0) is scheduled — also deferred.\n",
        "\n",
        "5. console.log('End'): Runs immediately.\n",
        "\n",
        "6. The call stack is now empty, so the event loop pulls the first setTimeout callback from the queue and executes it: Timeout 1.\n",
        "\n",
        "7. Then it executes the second one: Timeout 2."
      ],
      "metadata": {
        "id": "hUy80N4jIkVH"
      }
    },
    {
      "cell_type": "markdown",
      "source": [
        "**Question 7 :** Write a JavaScript function named startCountdown that logs “Time left:X” every second, starting from 5 down to 1, and finally logs “Time’s up!”. Use setInterval and clearInterval only.\n",
        "\n",
        "**ANS:**"
      ],
      "metadata": {
        "id": "xXPIU88JJQJk"
      }
    },
    {
      "cell_type": "code",
      "source": [
        "function startCountdown() {\n",
        "  let timeLeft = 5;\n",
        "\n",
        "  const intervalId = setInterval(function () {\n",
        "    if (timeLeft > 0) {\n",
        "      console.log(`Time left: ${timeLeft}`);\n",
        "      timeLeft--;\n",
        "    } else {\n",
        "      console.log(\"Time's up!\");\n",
        "      clearInterval(intervalId); // Stop the interval\n",
        "    }\n",
        "  }, 1000); // Run every 1000 ms (1 second)\n",
        "}\n",
        "\n",
        "// Call the function to start the countdown\n",
        "startCountdown();\n"
      ],
      "metadata": {
        "id": "aDLSxcVNU_j1"
      },
      "execution_count": null,
      "outputs": []
    },
    {
      "cell_type": "markdown",
      "source": [
        "**Question 8 :** Explain what Promises are in JavaScript and write code that creates a Promise to simulate checking if a user is logged in. The Promise should resolve with user data after 2 seconds if successful, or reject with an error message if the user is not found.\n",
        "\n",
        "**ANS:**\n",
        "\n",
        "A Promise in JavaScript is an object that represents the eventual completion or failure of an asynchronous operation. It's a cleaner alternative to using nested callbacks (a.k.a. \"callback hell\").\n",
        "\n",
        "**A Promise has three states:**\n",
        "\n",
        "**Pending –** the operation is still ongoing.\n",
        "\n",
        "**Fulfilled –** the operation completed successfully (resolve() was called).\n",
        "\n",
        "**Rejected –** the operation failed (reject() was called).\n",
        "\n"
      ],
      "metadata": {
        "id": "SES_cQZLVA0o"
      }
    },
    {
      "cell_type": "code",
      "source": [
        "function checkUserLoggedIn(username) {\n",
        "  return new Promise((resolve, reject) => {\n",
        "    // Simulate async delay (e.g. fetching from server)\n",
        "    setTimeout(() => {\n",
        "      const fakeUserDB = {\n",
        "        john: { name: \"John Doe\", email: \"john@example.com\" },\n",
        "        jane: { name: \"Jane Smith\", email: \"jane@example.com\" }\n",
        "      };\n",
        "\n",
        "      // Check if user exists\n",
        "      if (fakeUserDB[username]) {\n",
        "        resolve(fakeUserDB[username]); // User found\n",
        "      } else {\n",
        "        reject(\"User not found.\"); // User not found\n",
        "      }\n",
        "    }, 2000); // Simulate 2-second delay\n",
        "  });\n",
        "}\n",
        "\n",
        "// Example usage:\n",
        "checkUserLoggedIn(\"john\")\n",
        "  .then(userData => {\n",
        "    console.log(\"User found:\", userData);\n",
        "  })\n",
        "  .catch(error => {\n",
        "    console.error(\"Error:\", error);\n",
        "  });\n"
      ],
      "metadata": {
        "id": "1S2FrkEzVmnf"
      },
      "execution_count": null,
      "outputs": []
    },
    {
      "cell_type": "markdown",
      "source": [
        "**Question 9 :** Rewrite the following Promise-based code to use async/await syntax. The code fetches user data and then fetches that user's posts. Include proper error handling.\n",
        "\n",
        "```\n",
        "function getUserDataAndPosts(userId) {\n",
        "return fetchUserData(userId)\n",
        ".then(userData => {\n",
        "return fetchUserPosts(userData.id)\n",
        ".then(posts => {\n",
        "return { user: userData, posts: posts };\n",
        "});\n",
        "})\n",
        ".catch(error => {\n",
        "console.error('Error:', error);\n",
        "throw error;\n",
        "});\n",
        "}\n",
        "```\n",
        "\n",
        "**ANS:**"
      ],
      "metadata": {
        "id": "GEPLIunzVo2w"
      }
    },
    {
      "cell_type": "code",
      "source": [
        "async function getUserDataAndPosts(userId) {\n",
        "  try {\n",
        "    const userData = await fetchUserData(userId);\n",
        "    const posts = await fetchUserPosts(userData.id);\n",
        "\n",
        "    return { user: userData, posts: posts };\n",
        "  } catch (error) {\n",
        "    console.error('Error:', error);\n",
        "    throw error; // re-throw to let the caller handle it if needed\n",
        "  }\n",
        "}\n"
      ],
      "metadata": {
        "id": "6rzu-UmBWR0b"
      },
      "execution_count": null,
      "outputs": []
    },
    {
      "cell_type": "markdown",
      "source": [
        "**Question 10 :** Write code using the fetch API to get weather data from a public API. Display the weather information in a user-friendly format. Assume you have the following configuration for the API.\n",
        "\n",
        "```\n",
        "const apiKey = 'abcd1234';\n",
        "const apiUrl =\n",
        "`https://api.openweathermap.org/data/2.5/weather?q=Mumbai&appid=${apiK\n",
        "ey}&units=metric`;\n",
        "\n",
        "```\n",
        "\n",
        "**ANS:**\n"
      ],
      "metadata": {
        "id": "LrhWE_gYWjhb"
      }
    },
    {
      "cell_type": "code",
      "source": [
        "<!DOCTYPE html>\n",
        "<html>\n",
        "<head>\n",
        "  <title>Weather App</title>\n",
        "</head>\n",
        "<body>\n",
        "\n",
        "  <h1>Weather in Mumbai</h1>\n",
        "  <div id=\"weatherInfo\">Loading...</div>\n",
        "\n",
        "  <script>\n",
        "    const apiKey = 'abcd1234';\n",
        "    const apiUrl = `https://api.openweathermap.org/data/2.5/weather?q=Mumbai&appid=${apiKey}&units=metric`;\n",
        "\n",
        "    // Fetch weather data\n",
        "    fetch(apiUrl)\n",
        "      .then(response => {\n",
        "        if (!response.ok) {\n",
        "          throw new Error(\"Failed to fetch weather data\");\n",
        "        }\n",
        "        return response.json();\n",
        "      })\n",
        "      .then(data => {\n",
        "        // Extract relevant info\n",
        "        const temp = data.main.temp;\n",
        "        const description = data.weather[0].description;\n",
        "        const humidity = data.main.humidity;\n",
        "        const windSpeed = data.wind.speed;\n",
        "\n",
        "        // Display in a user-friendly format\n",
        "        const weatherInfo = `\n",
        "          <p><strong>Temperature:</strong> ${temp} °C</p>\n",
        "          <p><strong>Description:</strong> ${description}</p>\n",
        "          <p><strong>Humidity:</strong> ${humidity}%</p>\n",
        "          <p><strong>Wind Speed:</strong> ${windSpeed} m/s</p>\n",
        "        `;\n",
        "\n",
        "        document.getElementById(\"weatherInfo\").innerHTML = weatherInfo;\n",
        "      })\n",
        "      .catch(error => {\n",
        "        document.getElementById(\"weatherInfo\").textContent = \"Error: \" + error.message;\n",
        "      });\n",
        "  </script>\n",
        "\n",
        "</body>\n",
        "</html>\n"
      ],
      "metadata": {
        "id": "3d2RMOEXW48w"
      },
      "execution_count": null,
      "outputs": []
    }
  ]
}