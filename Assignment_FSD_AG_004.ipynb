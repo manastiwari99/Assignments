{
  "nbformat": 4,
  "nbformat_minor": 0,
  "metadata": {
    "colab": {
      "provenance": []
    },
    "kernelspec": {
      "name": "python3",
      "display_name": "Python 3"
    },
    "language_info": {
      "name": "python"
    }
  },
  "cells": [
    {
      "cell_type": "markdown",
      "source": [
        "**Question 1 : Explain the purpose of version control systems like Git. Why are they essential in modern software development?**\n",
        "\n",
        "**ANSWER:**\n",
        "\n",
        "**Purpose of Version Control Systems (VCS) like Git**\n",
        "\n",
        "1. **Track Changes Over Time:**\n",
        "Git records every change made to the codebase, allowing developers to revisit or revert to previous versions when needed.\n",
        "\n",
        "2. **Collaboration:**\n",
        "Multiple developers can work on the same project simultaneously without overwriting each other's work. Git manages code merging and conflict resolution.\n",
        "\n",
        "3. **Branching and Merging:**\n",
        "Developers can create separate branches to work on features, fixes, or experiments independently. Once complete, changes can be merged back into the main codebase.\n",
        "\n",
        "4. **Backup and Recovery:**\n",
        "Because changes are stored in a distributed repository, it acts as a backup. You can recover lost or broken code versions easily.\n",
        "\n",
        "5. **Accountability and Documentation:**\n",
        "Each change is recorded with a commit message, author, and timestamp, providing a detailed history of who did what and why.\n",
        "\n",
        " **Why Git is Essential in Modern Software Development**\n",
        "\n",
        "* **Supports Agile and DevOps practices:** Frequent updates, testing, and deployment are facilitated by Git workflows.\n",
        "\n",
        "* **Enables Distributed Work:** Developers across different locations can contribute to the same project using local and remote repositories.\n",
        "\n",
        "* **Integration with CI/CD Tools:** Git integrates seamlessly with tools like GitHub, GitLab, Jenkins, etc., automating testing and deployment.\n",
        "\n",
        "* **Open Source and Widely Adopted:** Git is free, fast, and used by millions of developers worldwide, making it a standard in the industry.\n"
      ],
      "metadata": {
        "id": "gR5OhpWrWKg0"
      }
    },
    {
      "cell_type": "markdown",
      "source": [
        "**Question 2: List the typical steps you would follow when working with Git to make changes to a project and share them on GitHub.**\n",
        "\n",
        "**ANSWER:**\n",
        " **1. Clone the Repository**\n",
        "Download a copy of the project from GitHub to your local machine:\n",
        "\n",
        "`git clone https://github.com/username/repository-name.git`\n",
        "\n",
        "**2. Navigate to the Project Directory**\n",
        "\n",
        "`cd repository-name`\n",
        "\n",
        "**3. Create a New Branch**\n",
        "Create a separate branch to make your changes:\n",
        "\n",
        "`git checkout -b feature-branch-name`\n",
        "\n",
        "**4.Make Changes**\n",
        "Edit, add, or delete files using your code editor.\n",
        "\n",
        "**5. Stage the Changes**\n",
        "Add the changed files to the staging area:\n",
        "\n",
        "`git add .`\n",
        "\n",
        "Or add specific files:\n",
        "\n",
        "`git add filename.py`\n",
        "\n",
        "**6. Commit the Changes**\n",
        "Save a snapshot of your changes with a meaningful message:\n",
        "\n",
        "`git commit -m \"Add feature X or fix bug Y\"`\n",
        "\n",
        "**7. Push Changes to GitHub**\n",
        "\n",
        "Upload your branch and commits to GitHub:\n",
        "\n",
        "`git push origin feature-branch-name`\n",
        "\n",
        "**8. Create a Pull Request (PR)**\n",
        "\n",
        "* Go to the GitHub repository page.\n",
        "\n",
        "* Click the “Compare & pull request” button.\n",
        "\n",
        "* Add a description of your changes and submit the PR for review.\n",
        "\n",
        "**9. Code Review and Merge**\n",
        "\n",
        "A teammate or maintainer reviews your pull request. Once approved, it gets merged into the main branch.\n",
        "\n",
        "**10. Update Your Local Repository**\n",
        "\n",
        "Regularly pull the latest changes from the remote repository:\n",
        "\n",
        "`git pull origin main`\n"
      ],
      "metadata": {
        "id": "MvayPBuBXiF_"
      }
    },
    {
      "cell_type": "markdown",
      "source": [
        "**Question 3: What is the purpose of a .gitignore file in a Git repository? Provide an example of how to ignore all .log files.**\n",
        "\n",
        "**ANSWER:**\n",
        "\n",
        "**Purpose of a .gitignore File in a Git Repository**\n",
        "The .gitignore file tells Git which files or directories to ignore in a project. This means Git will not track, stage, or commit those files, even if they exist in your working directory.\n",
        "\n",
        "**Why Use .gitignore?**\n",
        "* To avoid committing temporary, sensitive, or environment-specific files.\n",
        "\n",
        "* To keep the repository clean and free of unnecessary clutter.\n",
        "\n",
        "* To prevent large or machine-specific files (like build artifacts) from being uploaded.\n",
        "\n",
        "**Common Examples of What to Ignore**\n",
        "* Log files (*.log)\n",
        "\n",
        "* Build folders (/dist, /build)\n",
        "\n",
        "* Dependency folders (node_modules/, vendor/)\n",
        "\n",
        "* OS or editor-specific files (.DS_Store, *.swp)\n"
      ],
      "metadata": {
        "id": "i6lkF-aZZulM"
      }
    },
    {
      "cell_type": "markdown",
      "source": [
        "**Example: Ignore All .log Files**\n",
        "To ignore all .log files in your project, add this line to your .gitignore file:"
      ],
      "metadata": {
        "id": "ea9DcqswawCx"
      }
    },
    {
      "cell_type": "code",
      "source": [
        "*.log"
      ],
      "metadata": {
        "id": "CNxbvmWEaye_"
      },
      "execution_count": null,
      "outputs": []
    },
    {
      "cell_type": "markdown",
      "source": [
        "**Question 4: You are currently on the main branch and want to switch to a branch named feature-login. Write the Git command to do this.**\n",
        "\n",
        "**ANSWER:**\n",
        "To switch from the main branch to the feature-login branch, use the following Git command:"
      ],
      "metadata": {
        "id": "Vw1kn7RWa7TA"
      }
    },
    {
      "cell_type": "code",
      "source": [
        "git checkout feature-login"
      ],
      "metadata": {
        "id": "k1jwbhwEbV1S"
      },
      "execution_count": null,
      "outputs": []
    },
    {
      "cell_type": "markdown",
      "source": [
        "**Alternative (Recommended for Newer Git Versions)**"
      ],
      "metadata": {
        "id": "ce4i09FxbZyK"
      }
    },
    {
      "cell_type": "code",
      "source": [
        "git switch feature-login"
      ],
      "metadata": {
        "id": "V4Cd4FvubsAF"
      },
      "execution_count": null,
      "outputs": []
    },
    {
      "cell_type": "markdown",
      "source": [
        "This command is more intuitive and specifically designed for switching branches."
      ],
      "metadata": {
        "id": "CCO6YRyVbzPM"
      }
    },
    {
      "cell_type": "markdown",
      "source": [
        "**Question 5: Declare a variable named age using let and assign it the value 25. Then, update its value to 30.**\n",
        "\n",
        "**ANSWER:**\n",
        "Here's how you can declare a variable named age using let, assign it the value 25, and then update it to 30:"
      ],
      "metadata": {
        "id": "GQO2dFzAb3II"
      }
    },
    {
      "cell_type": "code",
      "source": [
        "let age = 25;  // Declare and assign initial value\n",
        "age = 30;      // Update the value"
      ],
      "metadata": {
        "id": "sTHLR7-PcRx8"
      },
      "execution_count": null,
      "outputs": []
    },
    {
      "cell_type": "markdown",
      "source": [
        "This uses let, which allows the variable's value to be changed later."
      ],
      "metadata": {
        "id": "3HMuesMocTT6"
      }
    },
    {
      "cell_type": "markdown",
      "source": [
        "**Question 6: Declare a constant named PI with the value 3.14159. Attempting to\n",
        "reassign it should result in an error. Demonstrate this behavior by writing out the\n",
        "outcome.**\n",
        "\n",
        "**ANSWER:** Here’s how you can declare a constant named PI with the value 3.14159 in JavaScript, and what happens if you try to reassign it:"
      ],
      "metadata": {
        "id": "dquSrRY5cXMi"
      }
    },
    {
      "cell_type": "code",
      "source": [
        "const PI = 3.14159;  // Declare constant\n",
        "\n",
        "PI = 3.14;           // Attempt to reassign (This will cause an error)"
      ],
      "metadata": {
        "id": "uz7ckzL1cxcS"
      },
      "execution_count": null,
      "outputs": []
    },
    {
      "cell_type": "markdown",
      "source": [
        "**Outcome:**\n",
        "If you run this code, JavaScript will throw an error like:"
      ],
      "metadata": {
        "id": "ElbwLqMoc41X"
      }
    },
    {
      "cell_type": "code",
      "source": [
        "TypeError: Assignment to constant variable."
      ],
      "metadata": {
        "id": "9x9bBcBEc-ON"
      },
      "execution_count": null,
      "outputs": []
    },
    {
      "cell_type": "markdown",
      "source": [
        "**Explanation:**\n",
        "* const is used to declare constants, which cannot be reassigned after their initial value is set.\n",
        "\n",
        "* Attempting to do so results in a runtime error, helping prevent accidental changes to important values like PI."
      ],
      "metadata": {
        "id": "P4w8VZshc_t2"
      }
    },
    {
      "cell_type": "markdown",
      "source": [
        "**Question 7: You are given the following array:**\n",
        "**const colors = [\"red\", \"green\", \"blue\", \"yellow\", \"purple\"];**\n",
        "1. Access and print the first element of the array.\n",
        "2. Access and print the last element of the array.\n",
        "3. Access and print the third element of the array.\n",
        "\n",
        "\n",
        "**ANSWER:** Here’s how you can access and print specific elements from the given array in JavaScript:"
      ],
      "metadata": {
        "id": "Uzv02ei4dKKO"
      }
    },
    {
      "cell_type": "code",
      "source": [
        "const colors = [\"red\", \"green\", \"blue\", \"yellow\", \"purple\"];\n",
        "\n",
        "// 1. Access and print the first element\n",
        "console.log(colors[0]);  // Output: red\n",
        "\n",
        "// 2. Access and print the last element\n",
        "console.log(colors[colors.length - 1]);  // Output: purple\n",
        "\n",
        "// 3. Access and print the third element\n",
        "console.log(colors[2]);  // Output: blue"
      ],
      "metadata": {
        "id": "IV_YA96Rd_5F"
      },
      "execution_count": null,
      "outputs": []
    },
    {
      "cell_type": "markdown",
      "source": [
        "**Question 8: Given x = 10 and y = 5, write expressions to:**\n",
        "1. Add x and y\n",
        "2. Check if x is greater than y\n",
        "3. Check if x is equal to y\n",
        "\n",
        "**ANSWER:** Given:\n"
      ],
      "metadata": {
        "id": "abVhudaPeK5D"
      }
    },
    {
      "cell_type": "code",
      "source": [
        "let x = 10;\n",
        "let y = 5;"
      ],
      "metadata": {
        "id": "EozloDjWeW4h"
      },
      "execution_count": null,
      "outputs": []
    },
    {
      "cell_type": "markdown",
      "source": [
        "Here are the required expressions:\n",
        "\n",
        "**1.  Add x and y**"
      ],
      "metadata": {
        "id": "78M55TFMea1L"
      }
    },
    {
      "cell_type": "code",
      "source": [
        "let sum = x + y;\n",
        "console.log(sum);  // Output: 15"
      ],
      "metadata": {
        "id": "yYKsAvP1ebu9"
      },
      "execution_count": null,
      "outputs": []
    },
    {
      "cell_type": "markdown",
      "source": [
        "**2. Check if x is greater than y**"
      ],
      "metadata": {
        "id": "VnDObZlVeun9"
      }
    },
    {
      "cell_type": "code",
      "source": [
        "let isGreater = x > y;\n",
        "console.log(isGreater);  // Output: true"
      ],
      "metadata": {
        "id": "pa-R-03qey8a"
      },
      "execution_count": null,
      "outputs": []
    },
    {
      "cell_type": "markdown",
      "source": [
        "**3. Check if x is equal to y**"
      ],
      "metadata": {
        "id": "_lt0jVo8e2sa"
      }
    },
    {
      "cell_type": "code",
      "source": [
        "let isEqual = x === y;\n",
        "console.log(isEqual);  // Output: false"
      ],
      "metadata": {
        "id": "WRX5qrOze-A5"
      },
      "execution_count": null,
      "outputs": []
    },
    {
      "cell_type": "markdown",
      "source": [
        "**Question 9: Identify the data types of the following values:**\n",
        "1. \"Hello\"\n",
        "2. 42\n",
        "3. true\n",
        "4. undefined\n",
        "\n",
        "**ANSWER:**\n",
        "\n",
        "**1. \"Hello\"**\n",
        "Type: string"
      ],
      "metadata": {
        "id": "GAq4DNeffEx4"
      }
    },
    {
      "cell_type": "code",
      "source": [
        "typeof \"Hello\";  // Output: \"string\""
      ],
      "metadata": {
        "id": "1aW6WZXLfYNi"
      },
      "execution_count": null,
      "outputs": []
    },
    {
      "cell_type": "markdown",
      "source": [
        "**2. 42**\n",
        "Type: number"
      ],
      "metadata": {
        "id": "gI-XIzCkfcT6"
      }
    },
    {
      "cell_type": "code",
      "source": [
        "typeof 42;  // Output: \"number\""
      ],
      "metadata": {
        "id": "KrcjywprfgMK"
      },
      "execution_count": null,
      "outputs": []
    },
    {
      "cell_type": "markdown",
      "source": [
        "**3. true** Type: boolean"
      ],
      "metadata": {
        "id": "GnhPcoJpflJS"
      }
    },
    {
      "cell_type": "code",
      "source": [
        "typeof true;  // Output: \"boolean\""
      ],
      "metadata": {
        "id": "zZUhMjlQfnlL"
      },
      "execution_count": null,
      "outputs": []
    },
    {
      "cell_type": "markdown",
      "source": [
        "**4. undefined**\n",
        "Type: undefined"
      ],
      "metadata": {
        "id": "voe_y4xXfu50"
      }
    },
    {
      "cell_type": "code",
      "source": [
        "typeof undefined;  // Output: \"undefined\""
      ],
      "metadata": {
        "id": "vnjHY6R6fzgM"
      },
      "execution_count": null,
      "outputs": []
    }
  ]
}