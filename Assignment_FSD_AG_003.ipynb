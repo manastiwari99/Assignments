{
  "nbformat": 4,
  "nbformat_minor": 0,
  "metadata": {
    "colab": {
      "provenance": []
    },
    "kernelspec": {
      "name": "python3",
      "display_name": "Python 3"
    },
    "language_info": {
      "name": "python"
    }
  },
  "cells": [
    {
      "cell_type": "markdown",
      "source": [
        "**Question 1 : Create a layout with three boxes side by side using Flexbox. The first box should have twice the width of the other two. Provide the HTML and CSS code snippets.**\n",
        "\n",
        "**Answer-**  HTML"
      ],
      "metadata": {
        "id": "zLTvmPRFgIr1"
      }
    },
    {
      "cell_type": "code",
      "source": [
        "<div class=\"container\">\n",
        "  <div class=\"box box1\">Box 1</div>\n",
        "  <div class=\"box box2\">Box 2</div>\n",
        "  <div class=\"box box3\">Box 3</div>\n",
        "</div>"
      ],
      "metadata": {
        "id": "lqjxkRMNgjH8"
      },
      "execution_count": null,
      "outputs": []
    },
    {
      "cell_type": "markdown",
      "source": [
        " CSS"
      ],
      "metadata": {
        "id": "tkpRi712gl8u"
      }
    },
    {
      "cell_type": "code",
      "source": [
        ".container {\n",
        "  display: flex;\n",
        "  width: 100%;\n",
        "}\n",
        "\n",
        ".box {\n",
        "  height: 100px;\n",
        "  display: flex;\n",
        "  align-items: center;\n",
        "  justify-content: center;\n",
        "  color: white;\n",
        "  font-weight: bold;\n",
        "}\n",
        "\n",
        ".box1 {\n",
        "  flex: 2;\n",
        "  background-color: #3498db;\n",
        "}\n",
        "\n",
        ".box2, .box3 {\n",
        "  flex: 1;\n",
        "  background-color: #2ecc71;\n",
        "  margin-left: 10px;\n",
        "}"
      ],
      "metadata": {
        "id": "nCDOVQNxgpUA"
      },
      "execution_count": null,
      "outputs": []
    },
    {
      "cell_type": "markdown",
      "source": [
        "**Question 2: Using CSS Grid, create a 2x2 grid layout where the first row spans two columns, and the second row has two equal columns. Provide the HTML and CSS code snippets.**\n",
        "\n",
        "**Answer-**\n",
        "Here's how we can create a 2x2 grid layout using CSS Grid, where:\n",
        "\n",
        "The first row spans both columns\n",
        "\n",
        "The second row has two equal columns\n",
        "\n",
        "**HTML**\n",
        "\n"
      ],
      "metadata": {
        "id": "aParK8ejgtMM"
      }
    },
    {
      "cell_type": "code",
      "source": [
        "<div class=\"grid-container\">\n",
        "  <div class=\"item item1\">Item 1 (Full Width)</div>\n",
        "  <div class=\"item item2\">Item 2</div>\n",
        "  <div class=\"item item3\">Item 3</div>\n",
        "</div>"
      ],
      "metadata": {
        "id": "HqXCly07hLdN"
      },
      "execution_count": null,
      "outputs": []
    },
    {
      "cell_type": "markdown",
      "source": [
        " **CSS**"
      ],
      "metadata": {
        "id": "cfMFQVhqhPxQ"
      }
    },
    {
      "cell_type": "code",
      "source": [
        ".grid-container {\n",
        "  display: grid;\n",
        "  grid-template-columns: 1fr 1fr; /* Two equal columns */\n",
        "  grid-template-rows: auto auto; /* Two rows */\n",
        "  gap: 10px; /* Optional spacing between items */\n",
        "  width: 100%;\n",
        "}\n",
        "\n",
        ".item {\n",
        "  background-color: #8e44ad;\n",
        "  color: white;\n",
        "  padding: 20px;\n",
        "  text-align: center;\n",
        "  font-weight: bold;\n",
        "}\n",
        "\n",
        "/* Make the first item span two columns */\n",
        ".item1 {\n",
        "  grid-column: span 2;\n",
        "  background-color: #3498db;\n",
        "}"
      ],
      "metadata": {
        "id": "sLuTVyywhRO-"
      },
      "execution_count": null,
      "outputs": []
    },
    {
      "cell_type": "markdown",
      "source": [
        "**Question 3: Write a media query that changes the background color of the body to light grey when the screen width is less than 600px.**\n",
        "\n",
        "**Answer-**Here's a simple media query that changes the background color of the `<body>` to light grey when the screen width is less than 600px:\n",
        "\n",
        "**CSS**"
      ],
      "metadata": {
        "id": "mKBKZ75thUCK"
      }
    },
    {
      "cell_type": "code",
      "source": [
        "@media (max-width: 599px) {\n",
        "  body {\n",
        "    background-color: lightgrey;\n",
        "  }\n",
        "}"
      ],
      "metadata": {
        "id": "tj7QTrE_hrzG"
      },
      "execution_count": null,
      "outputs": []
    },
    {
      "cell_type": "markdown",
      "source": [
        "**Explanation**\n",
        "\n",
        "@media (max-width: 599px) targets screens up to 599px wide.\n",
        "\n",
        "background-color: lightgrey; applies only when the screen is narrow, such as on mobile devices."
      ],
      "metadata": {
        "id": "lNHYDL78htp2"
      }
    },
    {
      "cell_type": "markdown",
      "source": [
        "**Question 4: Create a button that changes its background color to blue and scales up slightly when hovered over, using CSS transitions. Provide the HTML and CSS code snippets.**\n",
        "\n",
        "**Answer-**\n",
        "Here’s how to create a button that:\n",
        "\n",
        "1. Changes its background color to blue\n",
        "2. Scales up slightly\n",
        "3. Uses smooth CSS transitions on hover\n",
        "\n",
        "HTML"
      ],
      "metadata": {
        "id": "baeh2htDh2d6"
      }
    },
    {
      "cell_type": "code",
      "source": [
        "<button class=\"fancy-button\">Hover Me</button>"
      ],
      "metadata": {
        "id": "KNxqQ6y1iP_I"
      },
      "execution_count": null,
      "outputs": []
    },
    {
      "cell_type": "markdown",
      "source": [
        "CSS"
      ],
      "metadata": {
        "id": "J-J9vUVEiRPy"
      }
    },
    {
      "cell_type": "code",
      "source": [
        ".fancy-button {\n",
        "  padding: 10px 20px;\n",
        "  background-color: #555;\n",
        "  color: white;\n",
        "  border: none;\n",
        "  border-radius: 5px;\n",
        "  cursor: pointer;\n",
        "  transition: background-color 0.3s ease, transform 0.3s ease;\n",
        "}\n",
        "\n",
        ".fancy-button:hover {\n",
        "  background-color: blue;\n",
        "  transform: scale(1.05);\n",
        "}"
      ],
      "metadata": {
        "id": "QVsabnfOiTqd"
      },
      "execution_count": null,
      "outputs": []
    },
    {
      "cell_type": "markdown",
      "source": [
        "**Explanation**\n",
        "\n",
        "transition enables smooth animation for both the color change and scaling effect.\n",
        "\n",
        "transform: scale(1.05) slightly enlarges the button when hovered.\n",
        "\n",
        "This provides a modern, interactive feel."
      ],
      "metadata": {
        "id": "-WAFKeIziYy6"
      }
    },
    {
      "cell_type": "markdown",
      "source": [
        "**Question 5: Use the ::before pseudo-element to add a decorative icon before each list item in an unordered list with the class name ‘decorated-list’. Provide the HTML and CSS code snippets.**\n",
        "\n",
        "**Answer-**\n",
        "Here’s how to use the ::before pseudo-element to add a decorative icon (like a bullet, emoji, or symbol) before each `<li> `item in a list with the class .decorated-list.\n",
        "\n",
        "HTML"
      ],
      "metadata": {
        "id": "g4-UZJqiierO"
      }
    },
    {
      "cell_type": "code",
      "source": [
        "<ul class=\"decorated-list\">\n",
        "  <li>First item</li>\n",
        "  <li>Second item</li>\n",
        "  <li>Third item</li>\n",
        "</ul>"
      ],
      "metadata": {
        "id": "GC3dk4zii2SM"
      },
      "execution_count": null,
      "outputs": []
    },
    {
      "cell_type": "markdown",
      "source": [
        "CSS"
      ],
      "metadata": {
        "id": "jhdGXVJZi4eK"
      }
    },
    {
      "cell_type": "code",
      "source": [
        ".decorated-list {\n",
        "  list-style: none; /* Remove default bullets */\n",
        "  padding-left: 0;\n",
        "}\n",
        "\n",
        ".decorated-list li::before {\n",
        "  content: \"⭐\"; /* Decorative icon (you can change this) */\n",
        "  margin-right: 8px;\n",
        "  color: gold;\n",
        "}"
      ],
      "metadata": {
        "id": "n7R1wH_Xi5xK"
      },
      "execution_count": null,
      "outputs": []
    },
    {
      "cell_type": "markdown",
      "source": [
        "**Explanation**\n",
        "\n",
        "list-style: none removes the browser’s default bullets.\n",
        "\n",
        "::before adds custom content (here, a ⭐ emoji) before each list item.\n",
        "\n",
        "margin-right gives space between the icon and the text."
      ],
      "metadata": {
        "id": "e8iVOT_ui-rN"
      }
    },
    {
      "cell_type": "markdown",
      "source": [
        " **Question 6: Create a simple animation that moves a square box from left to right infinitely. Provide the HTML and CSS code snippets.**\n",
        "\n",
        "**Answer-** Here’s how to create a simple infinite animation that moves a square box from left to right using CSS:\n",
        "\n",
        "HTML"
      ],
      "metadata": {
        "id": "ijrKboQ-jF2D"
      }
    },
    {
      "cell_type": "code",
      "source": [
        "<div class=\"animation-container\">\n",
        "  <div class=\"moving-box\"></div>\n",
        "</div>"
      ],
      "metadata": {
        "id": "-f9cQkL7jlPj"
      },
      "execution_count": null,
      "outputs": []
    },
    {
      "cell_type": "markdown",
      "source": [
        "CSS"
      ],
      "metadata": {
        "id": "rzJXj9BbjnP7"
      }
    },
    {
      "cell_type": "code",
      "source": [
        ".animation-container {\n",
        "  width: 100%;\n",
        "  height: 100px;\n",
        "  position: relative;\n",
        "  overflow: hidden;\n",
        "  background-color: #f0f0f0;\n",
        "}\n",
        "\n",
        ".moving-box {\n",
        "  width: 50px;\n",
        "  height: 50px;\n",
        "  background-color: red;\n",
        "  position: absolute;\n",
        "  top: 25px;\n",
        "  left: 0;\n",
        "  animation: moveRight 3s linear infinite;\n",
        "}\n",
        "\n",
        "@keyframes moveRight {\n",
        "  0% {\n",
        "    left: 0;\n",
        "  }\n",
        "  100% {\n",
        "    left: 100%;\n",
        "  }\n",
        "}"
      ],
      "metadata": {
        "id": "UEj8rg7ujsEY"
      },
      "execution_count": null,
      "outputs": []
    },
    {
      "cell_type": "markdown",
      "source": [
        "**Explanation**\n",
        "\n",
        ".moving-box is the square that moves.\n",
        "\n",
        "@keyframes moveRight animates its left property from 0 to 100%.\n",
        "\n",
        "animation: ... infinite makes it loop forever."
      ],
      "metadata": {
        "id": "w14uX5Vzj3AX"
      }
    },
    {
      "cell_type": "markdown",
      "source": [
        "**Question 7: Explain the difference between position: absolute; and position: fixed; in CSS.**\n",
        "\n",
        "**Answer-**\n",
        "\n",
        "**position: absolute;**\n",
        "Positioned relative to the nearest positioned ancestor (i.e. the closest parent element with position: relative, absolute, or fixed).\n",
        "\n",
        "If no positioned ancestor exists, it’s positioned relative to the initial containing block (usually the <html> element).\n",
        "\n",
        "The element scrolls with the page\n",
        "\n",
        "**Use case:** Pop-ups, tooltips, or elements placed within a specific section."
      ],
      "metadata": {
        "id": "FDiDocv9j54R"
      }
    },
    {
      "cell_type": "code",
      "source": [
        ".parent {\n",
        "  position: relative;\n",
        "}\n",
        "\n",
        ".child {\n",
        "  position: absolute;\n",
        "  top: 10px;\n",
        "  left: 20px;\n",
        "}"
      ],
      "metadata": {
        "id": "xRzLyRTQkwNt"
      },
      "execution_count": null,
      "outputs": []
    },
    {
      "cell_type": "markdown",
      "source": [
        "**position: fixed;**\n",
        "Positioned relative to the browser window (viewport), regardless of scroll or parent positioning.\n",
        "\n",
        "The element stays fixed in place even when you scroll the page.\n",
        "\n",
        "Ignores parent element positioning.\n",
        "\n",
        " **Use case:** Sticky headers, floating action buttons, or persistent navigation bars.\n"
      ],
      "metadata": {
        "id": "Vo3qrG2xlAk2"
      }
    },
    {
      "cell_type": "code",
      "source": [
        ".fixed-box {\n",
        "  position: fixed;\n",
        "  bottom: 10px;\n",
        "  right: 10px;\n",
        "}"
      ],
      "metadata": {
        "id": "pIqIXUZjlJPv"
      },
      "execution_count": null,
      "outputs": []
    },
    {
      "cell_type": "markdown",
      "source": [
        "**Question 8: Create a layered layout where a semi-transparent overlay covers an image using z-index. Provide the HTML and CSS code snippets.**\n",
        "\n",
        "**Answer-** HTML"
      ],
      "metadata": {
        "id": "ar_j2Jcrlg_q"
      }
    },
    {
      "cell_type": "code",
      "source": [
        "<div class=\"image-container\">\n",
        "  <img src=\"your-image.jpg\" alt=\"Background\" class=\"background-image\">\n",
        "  <div class=\"overlay\"></div>\n",
        "  <div class=\"text\">Overlay Text</div>\n",
        "</div>"
      ],
      "metadata": {
        "id": "SSDRs-f1ltSf"
      },
      "execution_count": null,
      "outputs": []
    },
    {
      "cell_type": "markdown",
      "source": [
        "CSS"
      ],
      "metadata": {
        "id": "YwYk4o6VlyLk"
      }
    },
    {
      "cell_type": "code",
      "source": [
        ".image-container {\n",
        "  position: relative;\n",
        "  width: 100%;\n",
        "  max-width: 600px;\n",
        "  height: 400px;\n",
        "  overflow: hidden;\n",
        "}\n",
        "\n",
        ".background-image {\n",
        "  width: 100%;\n",
        "  height: 100%;\n",
        "  object-fit: cover;\n",
        "  display: block;\n",
        "}\n",
        "\n",
        ".overlay {\n",
        "  position: absolute;\n",
        "  top: 0;\n",
        "  left: 0;\n",
        "  width: 100%;\n",
        "  height: 100%;\n",
        "  background-color: rgba(0, 0, 0, 0.5); /* Semi-transparent black */\n",
        "  z-index: 1;\n",
        "}\n",
        "\n",
        ".text {\n",
        "  position: absolute;\n",
        "  top: 50%;\n",
        "  left: 50%;\n",
        "  transform: translate(-50%, -50%);\n",
        "  color: white;\n",
        "  font-size: 24px;\n",
        "  z-index: 2; /* On top of the overlay */\n",
        "}"
      ],
      "metadata": {
        "id": "csFqykVVlzzH"
      },
      "execution_count": null,
      "outputs": []
    },
    {
      "cell_type": "markdown",
      "source": [
        "**Explanation**\n",
        "\n",
        ".background-image is the image at the bottom (default z-index: 0).\n",
        "\n",
        ".overlay sits on top of the image with z-index: 1.\n",
        "\n",
        ".text appears above the overlay with z-index: 2.\n",
        "\n",
        "rgba(0, 0, 0, 0.5) creates the semi-transparent effect."
      ],
      "metadata": {
        "id": "yRygv3cQl5Yx"
      }
    }
  ]
}