{
  "nbformat": 4,
  "nbformat_minor": 0,
  "metadata": {
    "colab": {
      "provenance": []
    },
    "kernelspec": {
      "name": "python3",
      "display_name": "Python 3"
    },
    "language_info": {
      "name": "python"
    }
  },
  "cells": [
    {
      "cell_type": "markdown",
      "source": [
        "**Question 1 :** What is React?\n",
        "\n",
        "**ANS:**\n",
        "\n",
        "React is a JavaScript library used for building user interfaces (UIs), particularly for single-page applications (SPAs) where you need a fast, interactive user experience.\n",
        "\n",
        "**Key Points about React:**\n",
        "\n",
        "**Developed by:** Facebook (now Meta)\n",
        "\n",
        "**Released:** 2013\n",
        "\n",
        "**Type:** Open-source front-end library\n",
        "\n",
        "\n",
        "**What React Does:**\n",
        "\n",
        "* **Component-Based Architecture:** You build UIs using reusable pieces called components.\n",
        "\n",
        "* **Declarative Syntax:** You describe what you want the UI to look like, and React takes care of updating it when the data changes.\n",
        "\n",
        "* **Virtual DOM:** React uses a virtual DOM to efficiently update only the parts of the page that need changes, which improves performance.\n",
        "\n",
        "\n",
        "\n",
        "**EXAMPLE:**"
      ],
      "metadata": {
        "id": "oUnIqN2bimpH"
      }
    },
    {
      "cell_type": "code",
      "source": [
        "function Hello() {\n",
        "  return <h1>Hello, World!</h1>;\n",
        "}\n"
      ],
      "metadata": {
        "id": "pZXqeNBTjpRU"
      },
      "execution_count": null,
      "outputs": []
    },
    {
      "cell_type": "markdown",
      "source": [
        "**Why Use React?**\n",
        "\n",
        "* Fast and Efficient\n",
        "\n",
        "* Reusable Components\n",
        "\n",
        "* Large Ecosystem (e.g., React Router, Redux)\n",
        "\n",
        "* Strong Community Support"
      ],
      "metadata": {
        "id": "9E3vrN3qjtrY"
      }
    },
    {
      "cell_type": "markdown",
      "source": [
        "**Question 2 :** Write a React functional component named `Greeting` that accepts a\n",
        "`name` prop and displays: \"Hello, [name]!\".\n",
        "\n",
        "**ANS:**\n"
      ],
      "metadata": {
        "id": "oWCGjxAJj4Rq"
      }
    },
    {
      "cell_type": "code",
      "source": [
        "import React from 'react';\n",
        "\n",
        "function Greeting({ name }) {\n",
        "  return <h1>Hello, {name}!</h1>;\n",
        "}\n",
        "\n",
        "export default Greeting;\n"
      ],
      "metadata": {
        "id": "i9lIRxYskNRN"
      },
      "execution_count": null,
      "outputs": []
    },
    {
      "cell_type": "markdown",
      "source": [
        "**Example:**"
      ],
      "metadata": {
        "id": "Q5rZK9opkVXg"
      }
    },
    {
      "cell_type": "code",
      "source": [
        "<Greeting name=\"Alice\" />\n"
      ],
      "metadata": {
        "id": "HSaXsfpnkY9k"
      },
      "execution_count": null,
      "outputs": []
    },
    {
      "cell_type": "markdown",
      "source": [
        "**Question 3 :** What is JSX and why is it useful in React?\n",
        "\n",
        "**ANS:**\n",
        "\n",
        "JSX stands for JavaScript XML. It is a syntax extension for JavaScript that allows you to write HTML-like code inside your JavaScript files, particularly in React components.\n",
        "\n",
        "**Example:**"
      ],
      "metadata": {
        "id": "w_kTlHafkaFV"
      }
    },
    {
      "cell_type": "code",
      "source": [
        "const element = <h1>Hello, world!</h1>;"
      ],
      "metadata": {
        "id": "N7rDfWhtkx3j"
      },
      "execution_count": null,
      "outputs": []
    },
    {
      "cell_type": "markdown",
      "source": [
        "This looks like HTML, but it's actually JSX, and it gets compiled to regular JavaScript:"
      ],
      "metadata": {
        "id": "BwEEk82Fk1Ni"
      }
    },
    {
      "cell_type": "code",
      "source": [
        "const element = React.createElement('h1', null, 'Hello, world!');"
      ],
      "metadata": {
        "id": "1fgVautOk33W"
      },
      "execution_count": null,
      "outputs": []
    },
    {
      "cell_type": "markdown",
      "source": [
        "**Why is JSX Useful in React?**\n",
        "* Improves Readability\n",
        "* **Keeps Logic and Layout Together:** Makes it easy to keep UI structure and related logic in one place.\n",
        "* **Power of JavaScript**\tYou can embed expressions, use props, map over arrays, etc.\n",
        "* **Tooling Support :**JSX provides better error messages, syntax highlighting, and auto-completion."
      ],
      "metadata": {
        "id": "ORpTuMzEk6Ue"
      }
    },
    {
      "cell_type": "markdown",
      "source": [
        "**Question 4 :** Explain how props support React’s one-way data flow.\n",
        "\n",
        "**ANS:**\n",
        "\n",
        "**What is One-Way Data Flow?**\n",
        "\n",
        "In React, data flows in one direction — from parent components to child components. This is called one-way data flow (or unidirectional data flow).\n",
        "\n",
        "**What are Props?**\n",
        "\n",
        "Props (short for properties) are how parents pass data to children in React components.\n",
        "\n",
        "*  A parent component provides data via props.\n",
        "\n",
        "* A child component receives and uses that data, but cannot modify it directly.\n",
        "\n",
        " **Example:**"
      ],
      "metadata": {
        "id": "UOawgU9wl-jh"
      }
    },
    {
      "cell_type": "code",
      "source": [
        "// Parent Component\n",
        "function App() {\n",
        "  return <Greeting name=\"Alice\" />;\n",
        "}\n",
        "\n",
        "// Child Component\n",
        "function Greeting(props) {\n",
        "  return <h1>Hello, {props.name}!</h1>;\n",
        "}"
      ],
      "metadata": {
        "id": "e1ztYZr6mgpE"
      },
      "execution_count": null,
      "outputs": []
    },
    {
      "cell_type": "markdown",
      "source": [
        "**Question 5 :** Create a functional component ClickMeButton that renders a button. It\n",
        "accepts onClick and label props. When clicked, it executes the passed onClick\n",
        "handler.\n",
        "\n",
        "**ANS:**"
      ],
      "metadata": {
        "id": "d0U56powmpu2"
      }
    },
    {
      "cell_type": "code",
      "source": [
        "import React from 'react';\n",
        "\n",
        "function ClickMeButton({ label, onClick }) {\n",
        "  return (\n",
        "    <button onClick={onClick}>\n",
        "      {label}\n",
        "    </button>\n",
        "  );\n",
        "}\n",
        "\n",
        "export default ClickMeButton;"
      ],
      "metadata": {
        "id": "SmhucfK6m7Dg"
      },
      "execution_count": null,
      "outputs": []
    },
    {
      "cell_type": "markdown",
      "source": [
        "**Usage Example:**"
      ],
      "metadata": {
        "id": "5Bfxtwwgm8vQ"
      }
    },
    {
      "cell_type": "code",
      "source": [
        "function App() {\n",
        "  const handleClick = () => {\n",
        "    alert(\"Button clicked!\");\n",
        "  };\n",
        "\n",
        "  return (\n",
        "    <ClickMeButton label=\"Click Me\" onClick={handleClick} />\n",
        "  );\n",
        "}"
      ],
      "metadata": {
        "id": "0qoCt9W3nCFz"
      },
      "execution_count": null,
      "outputs": []
    },
    {
      "cell_type": "markdown",
      "source": [
        "**Question 6 :** Given const fruits = ['Apple', 'Banana', 'Cherry'], write a\n",
        "component FruitList that renders an unordered list of these fruits using .map() and\n",
        "includes a key.\n",
        "\n",
        "**ANS:**"
      ],
      "metadata": {
        "id": "PsKBvB93nGeU"
      }
    },
    {
      "cell_type": "code",
      "source": [
        "import React from 'react';\n",
        "\n",
        "const fruits = ['Apple', 'Banana', 'Cherry'];\n",
        "\n",
        "function FruitList() {\n",
        "  return (\n",
        "    <ul>\n",
        "      {fruits.map((fruit, index) => (\n",
        "        <li key={index}>{fruit}</li>\n",
        "      ))}\n",
        "    </ul>\n",
        "  );\n",
        "}\n",
        "\n",
        "export default FruitList;"
      ],
      "metadata": {
        "id": "NIi8UulLs0Cf"
      },
      "execution_count": null,
      "outputs": []
    },
    {
      "cell_type": "markdown",
      "source": [
        "**Question 7 :** Why is the key attribute important when rendering lists in React? What\n",
        "goes wrong if keys are missing or misuse array index?\n",
        "\n",
        "**ANS:**\n",
        "\n",
        "**What is the key attribute?**\n",
        "\n",
        "The key is a special prop used by React when rendering lists. It helps React identify which items have changed, been added, or removed, so it can efficiently update the UI.\n",
        "\n",
        "**Why is key important?**\n",
        "\n",
        "* **Performance Optimization:** React uses keys to minimize re-renders. It avoids updating or recreating components unnecessarily.\n",
        "\n",
        "* **Stable Identity:** Keys give each item a stable identity between renders, so React can correctly match DOM elements to data items.\n",
        "\n",
        "* **Avoid UI Bugs:** Without keys (or with incorrect keys), React may mix up components, causing issues like:\n",
        "\n",
        "* Inputs losing focus\n",
        "\n",
        "* Wrong data appearing in the wrong place\n",
        "\n",
        "* Unpredictable behavior"
      ],
      "metadata": {
        "id": "eEe7rGFDs2Gx"
      }
    },
    {
      "cell_type": "markdown",
      "source": [
        "**What goes wrong if keys are missing or misused?**\n",
        "\n",
        "* **No key provided:**\tReact will warn you and use the array index as fallback, which is not ideal.\n",
        "* **Using array index as key:**\tWorks for static lists, but causes bugs if the list is reordered, filtered, or items are added/removed.\n",
        "* **Incorrect or duplicate keys:**\tReact may reuse components incorrectly, leading to unexpected UI behavior.\n",
        "\n"
      ],
      "metadata": {
        "id": "XmS3GR3mtzjq"
      }
    },
    {
      "cell_type": "markdown",
      "source": [
        "**Example of a Bug with Index Keys:**"
      ],
      "metadata": {
        "id": "nmL8P8BEuMvR"
      }
    },
    {
      "cell_type": "code",
      "source": [
        "{items.map((item, index) => (\n",
        "  <input key={index} value={item.name} />\n",
        "))}"
      ],
      "metadata": {
        "id": "kuHIZNCbuPiH"
      },
      "execution_count": null,
      "outputs": []
    },
    {
      "cell_type": "markdown",
      "source": [
        "If items are reordered, the input fields may keep the wrong values because keys don't reflect actual item identity."
      ],
      "metadata": {
        "id": "6tpKmediuV6o"
      }
    },
    {
      "cell_type": "markdown",
      "source": [
        "**Question 8 :** Write a component UserList that receives a users prop—an array of\n",
        "objects each with id and name. Render each user’s name in a <p> tag, using map()\n",
        "and key.\n",
        "\n",
        "\n",
        "**ANS:**\n",
        "\n"
      ],
      "metadata": {
        "id": "-BIRnOD9uZnz"
      }
    },
    {
      "cell_type": "code",
      "source": [
        "import React from 'react';\n",
        "\n",
        "function UserList({ users }) {\n",
        "  return (\n",
        "    <div>\n",
        "      {users.map(user => (\n",
        "        <p key={user.id}>{user.name}</p>\n",
        "      ))}\n",
        "    </div>\n",
        "  );\n",
        "}\n",
        "\n",
        "export default UserList;"
      ],
      "metadata": {
        "id": "RT1xibyvupKY"
      },
      "execution_count": null,
      "outputs": []
    },
    {
      "cell_type": "markdown",
      "source": [
        "**Usage Example:**"
      ],
      "metadata": {
        "id": "FlE2wm9CuqG0"
      }
    },
    {
      "cell_type": "code",
      "source": [
        "const users = [\n",
        "  { id: 1, name: 'Alice' },\n",
        "  { id: 2, name: 'Bob' },\n",
        "  { id: 3, name: 'Charlie' }\n",
        "];\n",
        "\n",
        "<UserList users={users} />"
      ],
      "metadata": {
        "id": "hRmkfssRuv6Z"
      },
      "execution_count": null,
      "outputs": []
    },
    {
      "cell_type": "markdown",
      "source": [
        "**This will render:**"
      ],
      "metadata": {
        "id": "dISAbRxCu1C8"
      }
    },
    {
      "cell_type": "code",
      "source": [
        "<p>Alice</p>\n",
        "<p>Bob</p>\n",
        "<p>Charlie</p>"
      ],
      "metadata": {
        "id": "XKBfUqcEu2Wu"
      },
      "execution_count": null,
      "outputs": []
    },
    {
      "cell_type": "markdown",
      "source": [
        "**Question 9 :** Create an App component that holds an array of numbers, passes them to\n",
        "a NumberList child component for rendering, and passes a click handler function to\n",
        "log the clicked number. Show one-way data flow and event handling.\n",
        "\n",
        "**ANS:**\n",
        "\n",
        "**App.js**"
      ],
      "metadata": {
        "id": "O3qv3Kvqu4Vc"
      }
    },
    {
      "cell_type": "code",
      "source": [
        "// App.js\n",
        "import React from 'react';\n",
        "import NumberList from './NumberList';\n",
        "\n",
        "function App() {\n",
        "  const numbers = [1, 2, 3, 4, 5];\n",
        "\n",
        "  const handleNumberClick = (number) => {\n",
        "    console.log('Clicked number:', number);\n",
        "  };\n",
        "\n",
        "  return (\n",
        "    <div>\n",
        "      <h2>Number List</h2>\n",
        "      <NumberList numbers={numbers} onNumberClick={handleNumberClick} />\n",
        "    </div>\n",
        "  );\n",
        "}\n",
        "\n",
        "export default App;\n",
        "\n"
      ],
      "metadata": {
        "id": "83vi-uq2vO7h"
      },
      "execution_count": null,
      "outputs": []
    },
    {
      "cell_type": "markdown",
      "source": [
        "**NumberList.js**"
      ],
      "metadata": {
        "id": "4n2pbg6Wvgh8"
      }
    },
    {
      "cell_type": "code",
      "source": [
        "// NumberList.js\n",
        "import React from 'react';\n",
        "\n",
        "function NumberList({ numbers, onNumberClick }) {\n",
        "  return (\n",
        "    <ul>\n",
        "      {numbers.map((num) => (\n",
        "        <li key={num}>\n",
        "          <button onClick={() => onNumberClick(num)}>\n",
        "            {num}\n",
        "          </button>\n",
        "        </li>\n",
        "      ))}\n",
        "    </ul>\n",
        "  );\n",
        "}\n",
        "\n",
        "export default NumberList;\n"
      ],
      "metadata": {
        "id": "Kzq42Ty1vQ7N"
      },
      "execution_count": null,
      "outputs": []
    },
    {
      "cell_type": "markdown",
      "source": [
        "**COMPLETE CODE:**"
      ],
      "metadata": {
        "id": "FBk4BLBlvng4"
      }
    },
    {
      "cell_type": "code",
      "source": [
        "import React from 'react';\n",
        "import ReactDOM from 'react-dom/client';\n",
        "\n",
        "// Child Component: NumberList\n",
        "function NumberList({ numbers, onNumberClick }) {\n",
        "  return (\n",
        "    <ul>\n",
        "      {numbers.map((num) => (\n",
        "        <li key={num}>\n",
        "          <button onClick={() => onNumberClick(num)}>\n",
        "            {num}\n",
        "          </button>\n",
        "        </li>\n",
        "      ))}\n",
        "    </ul>\n",
        "  );\n",
        "}\n",
        "\n",
        "// Parent Component: App\n",
        "function App() {\n",
        "  const numbers = [1, 2, 3, 4, 5];\n",
        "\n",
        "  const handleNumberClick = (number) => {\n",
        "    console.log('Clicked number:', number);\n",
        "  };\n",
        "\n",
        "  return (\n",
        "    <div>\n",
        "      <h2>Number List</h2>\n",
        "      <NumberList numbers={numbers} onNumberClick={handleNumberClick} />\n",
        "    </div>\n",
        "  );\n",
        "}\n",
        "\n",
        "// Render the App\n",
        "const root = ReactDOM.createRoot(document.getElementById('root'));\n",
        "root.render(<App />);"
      ],
      "metadata": {
        "id": "pgbBA2Rsvyjx"
      },
      "execution_count": null,
      "outputs": []
    },
    {
      "cell_type": "markdown",
      "source": [
        "**Question 10 :** Design a component ProductList that receives products (array of\n",
        "objects with id, name, price). Render a list of product names and prices using\n",
        ".map(). Each item when clicked should call a prop onProductSelect(product).\n",
        "Include the proper key.\n",
        "\n",
        "\n",
        "**ANS:**\n",
        "\n",
        "**Complete Code: ProductList Component**"
      ],
      "metadata": {
        "id": "ZZ6LtcWRv2TV"
      }
    },
    {
      "cell_type": "code",
      "source": [
        "import React from 'react';\n",
        "\n",
        "function ProductList({ products, onProductSelect }) {\n",
        "  return (\n",
        "    <ul>\n",
        "      {products.map((product) => (\n",
        "        <li\n",
        "          key={product.id}\n",
        "          onClick={() => onProductSelect(product)}\n",
        "          style={{ cursor: 'pointer', margin: '8px 0' }}\n",
        "        >\n",
        "          {product.name} - ${product.price}\n",
        "        </li>\n",
        "      ))}\n",
        "    </ul>\n",
        "  );\n",
        "}\n",
        "\n",
        "export default ProductList;"
      ],
      "metadata": {
        "id": "atUjJeuIwJrJ"
      },
      "execution_count": null,
      "outputs": []
    },
    {
      "cell_type": "markdown",
      "source": [
        "**Example Usage in a Parent Component (App):**"
      ],
      "metadata": {
        "id": "_OEN_AV2wMPJ"
      }
    },
    {
      "cell_type": "code",
      "source": [
        "import React from 'react';\n",
        "import ReactDOM from 'react-dom/client';\n",
        "import ProductList from './ProductList'; // Assume it's in a separate file\n",
        "\n",
        "function App() {\n",
        "  const products = [\n",
        "    { id: 1, name: 'Laptop', price: 999 },\n",
        "    { id: 2, name: 'Phone', price: 499 },\n",
        "    { id: 3, name: 'Headphones', price: 199 },\n",
        "  ];\n",
        "\n",
        "  const handleProductSelect = (product) => {\n",
        "    alert(`Selected: ${product.name} ($${product.price})`);\n",
        "  };\n",
        "\n",
        "  return (\n",
        "    <div>\n",
        "      <h2>Product List</h2>\n",
        "      <ProductList products={products} onProductSelect={handleProductSelect} />\n",
        "    </div>\n",
        "  );\n",
        "}\n",
        "\n",
        "const root = ReactDOM.createRoot(document.getElementById('root'));\n",
        "root.render(<App />);"
      ],
      "metadata": {
        "id": "pw3ClJ_rwRDt"
      },
      "execution_count": null,
      "outputs": []
    }
  ]
}