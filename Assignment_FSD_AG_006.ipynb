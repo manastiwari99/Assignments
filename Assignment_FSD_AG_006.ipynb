{
  "nbformat": 4,
  "nbformat_minor": 0,
  "metadata": {
    "colab": {
      "provenance": []
    },
    "kernelspec": {
      "name": "python3",
      "display_name": "Python 3"
    },
    "language_info": {
      "name": "python"
    }
  },
  "cells": [
    {
      "cell_type": "markdown",
      "source": [
        "**Question 1 :** Explain what the forEach method does in JavaScript arrays and write code that uses forEach to display each student's name from an array of student objects to the console.\n",
        "\n",
        "// Array of student objects\n",
        "```const students = [\n",
        "{ name: \"Rahul\", age: 20 },\n",
        "{ name: \"Priya\", age: 19 },\n",
        "{ name: \"Amit\", age: 21 },\n",
        "{ name: \"Sneha\", age: 20 }\n",
        "];\n",
        "```\n",
        "**ANS:**\n",
        "\n",
        "The forEach() method is an array method in JavaScript that allows you to execute a function once for each element in an array. It's often used to iterate through arrays for purposes such as displaying data, applying transformations, or triggering side effects (like logging or UI updates).\n",
        "\n",
        "* It does not return a new array (unlike map()).\n",
        "\n",
        "* It takes a callback function with up to three arguments:\n",
        "element, index, and array.\n",
        "\n"
      ],
      "metadata": {
        "id": "bXnkpWJHodow"
      }
    },
    {
      "cell_type": "markdown",
      "source": [
        "**Using forEach to Display Student Names:**"
      ],
      "metadata": {
        "id": "wnu7d7wVpxuK"
      }
    },
    {
      "cell_type": "code",
      "source": [
        "// Array of student objects\n",
        "const students = [\n",
        "  { name: \"Rahul\", age: 20 },\n",
        "  { name: \"Priya\", age: 19 },\n",
        "  { name: \"Amit\", age: 21 },\n",
        "  { name: \"Sneha\", age: 20 }\n",
        "];\n",
        "\n",
        "// Using forEach to display each student's name\n",
        "students.forEach(function(student) {\n",
        "  console.log(student.name);\n",
        "});"
      ],
      "metadata": {
        "id": "NU2cUeH7p3MK"
      },
      "execution_count": null,
      "outputs": []
    },
    {
      "cell_type": "markdown",
      "source": [
        "**Question 2 :** You have an array of product prices in rupees. Write code using the map method to create a new array that contains the same prices but with 18% GST added to each price.\n",
        "\n",
        "```const originalPrices = [100, 250, 500, 750, 1000];```\n",
        "\n",
        "**ANS:**"
      ],
      "metadata": {
        "id": "oX1pmSZrqP78"
      }
    },
    {
      "cell_type": "code",
      "source": [
        "const originalPrices = [100, 250, 500, 750, 1000];\n",
        "\n",
        "// Create a new array with 18% GST added to each price\n",
        "const pricesWithGST = originalPrices.map(price => price + (price * 0.18));\n",
        "\n",
        "console.log(pricesWithGST);\n"
      ],
      "metadata": {
        "id": "KpyRem4Oqg4B"
      },
      "execution_count": null,
      "outputs": []
    },
    {
      "cell_type": "markdown",
      "source": [
        "**Question 3 :** A school wants to find all students who scored more than 80 marks in their exam. The following code has an error that prevents it from working correctly. Fix the code and explain what was wrong.\n",
        "```\n",
        "const students = [\n",
        " { name: \"Raj\", marks: 85 },\n",
        " { name: \"Sita\", marks: 92 },\n",
        " { name: \"Vikram\", marks: 78 },\n",
        " { name: \"Meera\", marks: 88 }\n",
        "];\n",
        "const topStudents = students.filter(student => {\n",
        " student.marks > 80;\n",
        "});\n",
        "```\n",
        "\n",
        "**ANS:**\n",
        "Here’s the incorrect code:\n"
      ],
      "metadata": {
        "id": "V7UyqXiFqiRf"
      }
    },
    {
      "cell_type": "code",
      "source": [
        "const topStudents = students.filter(student => {\n",
        "  student.marks > 80;\n",
        "});"
      ],
      "metadata": {
        "id": "y2SGRB0nrVgv"
      },
      "execution_count": null,
      "outputs": []
    },
    {
      "cell_type": "markdown",
      "source": [
        "**What’s wrong?**\n",
        "\n",
        "Inside the arrow function, the condition student.marks > 80; is written, but the result is not returned. In JavaScript, if you use {} in an arrow function, you must explicitly use the return keyword. Without it, the function returns undefined, so .filter() doesn’t know whether to include the item or not.\n",
        "\n",
        "\n",
        "**Corrected Code:**"
      ],
      "metadata": {
        "id": "FDXYF0OqrXtF"
      }
    },
    {
      "cell_type": "code",
      "source": [
        "const topStudents = students.filter(student => {\n",
        "  return student.marks > 80;\n",
        "});\n",
        "\n",
        "console.log(topStudents);\n"
      ],
      "metadata": {
        "id": "3NZE1Xkdrrvl"
      },
      "execution_count": null,
      "outputs": []
    },
    {
      "cell_type": "markdown",
      "source": [
        "**Or, using a concise arrow function (no curly braces = implicit return):**"
      ],
      "metadata": {
        "id": "OSGW6iHQruY_"
      }
    },
    {
      "cell_type": "code",
      "source": [
        "const topStudents = students.filter(student => student.marks > 80);\n",
        "\n",
        "console.log(topStudents);\n"
      ],
      "metadata": {
        "id": "bw2zlfTWrzoD"
      },
      "execution_count": null,
      "outputs": []
    },
    {
      "cell_type": "markdown",
      "source": [
        "**Question 4 :** Write code using the find method to locate a book with the title \"Harry Potter\" from an array of book objects. If the book is found, display its author name, otherwise display \"Book not found\".\n",
        "\n",
        "// Array of book objects\n",
        "```\n",
        "const books = [\n",
        "{ title: \"Gitanjali\", author: \"Rabindranath Tagore\" },\n",
        "{ title: \"Harry Potter\", author: \"J.K. Rowling\" },\n",
        "{ title: \"The God of Small Things\", author: \"Arundhati Roy\" },\n",
        "{ title: \"Midnight's Children\", author: \"Salman Rushdie\" }\n",
        "];\n",
        "```\n",
        "\n",
        "**ANS:**"
      ],
      "metadata": {
        "id": "fczrrAaBr1v5"
      }
    },
    {
      "cell_type": "code",
      "source": [
        "const books = [\n",
        "  { title: \"Gitanjali\", author: \"Rabindranath Tagore\" },\n",
        "  { title: \"Harry Potter\", author: \"J.K. Rowling\" },\n",
        "  { title: \"The God of Small Things\", author: \"Arundhati Roy\" },\n",
        "  { title: \"Midnight's Children\", author: \"Salman Rushdie\" }\n",
        "];\n",
        "\n",
        "const book = books.find(b => b.title === \"Harry Potter\");\n",
        "\n",
        "if (book) {\n",
        "  console.log(\"Author:\", book.author);\n",
        "} else {\n",
        "  console.log(\"Book not found\");\n",
        "}\n"
      ],
      "metadata": {
        "id": "XQR_E1_KsULN"
      },
      "execution_count": null,
      "outputs": []
    },
    {
      "cell_type": "markdown",
      "source": [
        "**Question 5 :** Explain how the sort method works in JavaScript and write code to sort an array of employee objects by their salary in descending order (highest salary first).\n",
        "\n",
        "// Array of employee objects\n",
        "```\n",
        "const employees = [\n",
        " { name: \"Rajesh\", salary: 45000 },\n",
        " { name: \"Priya\", salary: 55000 },\n",
        " { name: \"Amit\", salary: 40000 },\n",
        " { name: \"Kavya\", salary: 60000 }\n",
        "];\n",
        "```\n",
        "\n",
        "**ANS:**\n",
        "\n",
        "The sort() method is used to sort the elements of an array. By default, it:\n",
        "\n",
        "* Sorts strings in alphabetical order.\n",
        "* Converts elements to strings for comparison, which can cause issues with numbers.\n",
        "\n",
        "**Sort Employees by Salary (Descending Order):**"
      ],
      "metadata": {
        "id": "cJRNosQosVsf"
      }
    },
    {
      "cell_type": "code",
      "source": [
        "const employees = [\n",
        "  { name: \"Rajesh\", salary: 45000 },\n",
        "  { name: \"Priya\", salary: 55000 },\n",
        "  { name: \"Amit\", salary: 40000 },\n",
        "  { name: \"Kavya\", salary: 60000 }\n",
        "];\n",
        "\n",
        "// Sort by salary in descending order\n",
        "employees.sort((a, b) => b.salary - a.salary);\n",
        "\n",
        "console.log(employees);\n"
      ],
      "metadata": {
        "id": "0Efj65K7tJMS"
      },
      "execution_count": null,
      "outputs": []
    },
    {
      "cell_type": "markdown",
      "source": [
        "**Question 6 :** Write code using the reduce method to calculate the total value of all items in a shopping cart. Each item has a price and quantity. Also find the most expensive single item in the cart.\n",
        "\n",
        "// Shopping cart with items\n",
        "```\n",
        "const cart = [\n",
        "{ name: \"Laptop\", price: 50000, quantity: 1 },\n",
        "{ name: \"Mouse\", price: 500, quantity: 2 },\n",
        "{ name: \"Keyboard\", price: 1500, quantity: 1 },\n",
        "{ name: \"Monitor\", price: 15000, quantity: 1 }\n",
        "];\n",
        "```\n",
        "\n",
        "**ANS:**"
      ],
      "metadata": {
        "id": "auqZoLYytTvO"
      }
    },
    {
      "cell_type": "code",
      "source": [
        "const cart = [\n",
        "  { name: \"Laptop\", price: 50000, quantity: 1 },\n",
        "  { name: \"Mouse\", price: 500, quantity: 2 },\n",
        "  { name: \"Keyboard\", price: 1500, quantity: 1 },\n",
        "  { name: \"Monitor\", price: 15000, quantity: 1 }\n",
        "];\n",
        "\n",
        "// 1. Calculate total value\n",
        "const totalValue = cart.reduce((total, item) => {\n",
        "  return total + (item.price * item.quantity);\n",
        "}, 0);\n",
        "\n",
        "console.log(\"Total Cart Value:\", totalValue);\n",
        "\n",
        "// 2. Find most expensive single item (by price)\n",
        "const mostExpensiveItem = cart.reduce((maxItem, item) => {\n",
        "  return item.price > maxItem.price ? item : maxItem;\n",
        "});\n",
        "\n",
        "console.log(\"Most Expensive Item:\", mostExpensiveItem.name, \"-\", mostExpensiveItem.price);\n"
      ],
      "metadata": {
        "id": "lP0llpAJtrsl"
      },
      "execution_count": null,
      "outputs": []
    },
    {
      "cell_type": "markdown",
      "source": [
        "**Question 7 :** Explain what array destructuring is and write code that extracts the first two colors from an array of colors into separate variables using destructuring.\n",
        "\n",
        "// Array of colors\n",
        "\n",
        "```const colors = [\"red\", \"blue\", \"green\", \"yellow\", \"purple\"];```\n",
        "\n",
        "**ANS:**\n",
        "Array destructuring is a feature in JavaScript that allows you to unpack values from arrays into individual variables in a clean and readable way.\n"
      ],
      "metadata": {
        "id": "4gPdUyyVttlr"
      }
    },
    {
      "cell_type": "code",
      "source": [
        "const colors = [\"red\", \"blue\", \"green\", \"yellow\", \"purple\"];\n",
        "\n",
        "// Destructure first two colors\n",
        "const [firstColor, secondColor] = colors;\n",
        "\n",
        "console.log(\"First color:\", firstColor);\n",
        "console.log(\"Second color:\", secondColor);\n"
      ],
      "metadata": {
        "id": "C5_NX0IWufkn"
      },
      "execution_count": null,
      "outputs": []
    },
    {
      "cell_type": "markdown",
      "source": [
        "**Question 8 :** You have a student object with name, age, and marks properties. Write  code using object destructuring to extract these values into separate variables and also rename the marks property to score while destructuring.\n",
        "\n",
        "```// Student object\n",
        "const student = {\n",
        "name: \"Arjun\",\n",
        "age: 20,\n",
        "marks: 85,\n",
        "city: \"Mumbai\"\n",
        "};\n",
        "```\n",
        "\n",
        "**ANS:**\n"
      ],
      "metadata": {
        "id": "rU2r5ZXZuhZp"
      }
    },
    {
      "cell_type": "code",
      "source": [
        "const student = {\n",
        "  name: \"Arjun\",\n",
        "  age: 20,\n",
        "  marks: 85,\n",
        "  city: \"Mumbai\"\n",
        "};\n",
        "\n",
        "// Destructuring with renaming\n",
        "const { name, age, marks: score } = student;\n",
        "\n",
        "console.log(\"Name:\", name);\n",
        "console.log(\"Age:\", age);\n",
        "console.log(\"Score:\", score);\n"
      ],
      "metadata": {
        "id": "Ay-IyeEdvBDw"
      },
      "execution_count": null,
      "outputs": []
    },
    {
      "cell_type": "markdown",
      "source": [
        "**Question 9 :** Write a function called calculateTotal that can accept any number of prices as arguments and returns their sum. Use the rest operator to handle the variable number of parameters.\n",
        "\n",
        "**ANS:**\n"
      ],
      "metadata": {
        "id": "9JMwXL7KvB8d"
      }
    },
    {
      "cell_type": "code",
      "source": [
        "function calculateTotal(...prices) {\n",
        "  return prices.reduce((total, price) => total + price, 0);\n",
        "}\n",
        "\n",
        "// Example usage\n",
        "const total = calculateTotal(100, 250, 75, 50);\n",
        "console.log(\"Total Price:\", total);\n"
      ],
      "metadata": {
        "id": "fTo2hoi6vlu6"
      },
      "execution_count": null,
      "outputs": []
    },
    {
      "cell_type": "markdown",
      "source": [
        "**Question 10 :** You have two arrays of student names and need to create a new array that contains all students from both arrays. Also, you have two objects representing a student's basic info and marks. Write code using the spread operator to solve both scenarios.\n",
        "\n",
        "```\n",
        "const classA = [\"Rahul\", \"Priya\", \"Amit\"];\n",
        "const classB = [\"Sneha\", \"Vikram\", \"Pooja\"];\n",
        "```\n",
        "\n",
        "**ANS:**"
      ],
      "metadata": {
        "id": "8x-O8w2ivnNj"
      }
    },
    {
      "cell_type": "code",
      "source": [
        "// Arrays of student names\n",
        "const classA = [\"Rahul\", \"Priya\", \"Amit\"];\n",
        "const classB = [\"Sneha\", \"Vikram\", \"Pooja\"];\n",
        "\n",
        "// Combine both class arrays into one\n",
        "const allStudents = [...classA, ...classB];\n",
        "console.log(\"All Students:\", allStudents);\n",
        "\n",
        "// Objects for student info and marks\n",
        "const basicInfo = { name: \"Rahul\", age: 20 };\n",
        "const marks = { math: 85, english: 90 };\n",
        "\n",
        "// Combine both objects into a single student profile\n",
        "const studentProfile = { ...basicInfo, ...marks };\n",
        "console.log(\"Student Profile:\", studentProfile);\n"
      ],
      "metadata": {
        "id": "941SNiRaw6yg"
      },
      "execution_count": null,
      "outputs": []
    }
  ]
}