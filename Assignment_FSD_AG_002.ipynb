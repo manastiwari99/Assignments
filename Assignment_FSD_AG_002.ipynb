{
  "nbformat": 4,
  "nbformat_minor": 0,
  "metadata": {
    "colab": {
      "provenance": []
    },
    "kernelspec": {
      "name": "python3",
      "display_name": "Python 3"
    },
    "language_info": {
      "name": "python"
    }
  },
  "cells": [
    {
      "cell_type": "markdown",
      "source": [
        "**Question 1:What are semantic HTML elements? Why is using them important for web development?**  \n",
        "\n",
        "**ANSWER-**  \n",
        "Semantic HTML elements are HTML tags that convey meaning about the type of content they contain. Unlike non-semantic elements like `<div>` or` <span>`, which do not describe their content, semantic elements clearly describe their role in the document.\n",
        "\n",
        "**Examples of semantic HTML elements include:**\n",
        "\n",
        "`<header>` – Represents the header section of a document or section.\n",
        "\n",
        "`<nav>` – Defines a section for navigation links.\n",
        "\n",
        "`<main>` – Specifies the main content of the document.\n",
        "\n",
        "`<section>` – Represents a standalone section of content.\n",
        "\n",
        "`<article>` – Represents a self-contained piece of content (e.g., blog post).\n",
        "\n",
        "`<aside> `– Represents content that is related to the main content but is separate from it.\n",
        "\n",
        "`<footer>` – Defines the footer for a document or section.\n",
        "\n",
        "\n",
        "# **Why is Using Semantic HTML Important for Web Development?**\n",
        "\n",
        "\n",
        "\n",
        "1. **Improves Accessibility:**Screen readers and assistive technologies rely on semantic tags to understand and navigate content efficiently.\n",
        "\n",
        "2. **Enhances SEO (Search Engine Optimization):**Search engines use semantic elements to better index and rank web pages by understanding their structure and content.\n",
        "3. **Better Code Readability and Maintainability:**Developers can easily understand the layout and purpose of different sections of a webpage, making the code cleaner and easier to maintain.\n",
        "4. **Supports Consistent Styling and Behavior:**Using semantic tags allows developers to apply consistent styling and behavior across similar types of content.\n",
        "5. **Future-Proofing:**Semantic HTML follows web standards and makes it easier to adapt to new technologies and frameworks over time.\n",
        "\n",
        "\n",
        "\n",
        "\n",
        "\n"
      ],
      "metadata": {
        "id": "D9wli8fmX6yC"
      }
    },
    {
      "cell_type": "markdown",
      "source": [
        "**Question 2:You're designing a blog page. Which semantic elements would you use to structure the page, and why?**\n",
        "\n",
        "**ANSWER-**\n",
        "When designing a blog page, using semantic HTML elements helps create a well-structured, accessible, and SEO-friendly layout. Here’s a breakdown of the key semantic elements you should use and the reasoning behind each:\n",
        "\n",
        "**Recommended Semantic Elements and Their Roles**\n",
        "\n",
        "**`<header>`**\n",
        "\n",
        "Purpose: Contains the top section of the page.\n",
        "\n",
        "Use: Site logo, title, navigation bar, or introductory content.\n",
        "\n",
        "Why: Clearly identifies the beginning of the page and helps users and search engines understand the page's context.\n",
        "\n",
        "**`<nav>`**\n",
        "\n",
        "Purpose: Holds navigation links.\n",
        "\n",
        "Use: Main site navigation (e.g., Home, About, Contact, Categories).\n",
        "\n",
        "Why: Enhances usability and accessibility by defining navigation areas.\n",
        "\n",
        "**`<main>`**\n",
        "\n",
        "Purpose: Wraps the main content of the page, excluding headers, footers, or sidebars.\n",
        "\n",
        "Use: Blog post listings or a single blog post.\n",
        "\n",
        "Why: Helps assistive technologies quickly jump to the main content.\n",
        "\n",
        "**`<article>`**\n",
        "\n",
        "Purpose: Contains self-contained pieces of content.\n",
        "\n",
        "Use: Each blog post should be wrapped in an <article> tag.\n",
        "\n",
        "Why: Clearly identifies standalone content that could be syndicated or reused independently.\n",
        "\n",
        "**`<section>`**\n",
        "\n",
        "Purpose: Groups related content within the page.\n",
        "\n",
        "Use: Grouping content like \"Latest Posts\", \"Trending Posts\", or comment sections.\n",
        "\n",
        "Why: Adds structure to the content and improves organization.\n",
        "\n",
        "**`<aside>`**\n",
        "\n",
        "Purpose: Contains content tangentially related to the main content.\n",
        "\n",
        "Use: Sidebars with ads, author bio, related posts, or archives.\n",
        "\n",
        "Why: Indicates that this content is not part of the main article but still relevant.\n",
        "\n",
        "**`<footer>`**\n",
        "\n",
        "Purpose: Marks the bottom section of the page or article.\n",
        "\n",
        "Use: Page-level footer (site-wide info, copyright), or post-level (author info, tags).\n",
        "\n",
        "Why: Helps define the end of a document or section and is a standard spot for supporting information.\n",
        "\n",
        "\n",
        "**Example Structure:**"
      ],
      "metadata": {
        "id": "ap_LczpgcEeC"
      }
    },
    {
      "cell_type": "code",
      "source": [
        "<body>\n",
        "  <header>\n",
        "    <h1>My Blog</h1>\n",
        "    <nav>\n",
        "      <ul>\n",
        "        <li><a href=\"/\">Home</a></li>\n",
        "        <li><a href=\"/about\">About</a></li>\n",
        "      </ul>\n",
        "    </nav>\n",
        "  </header>\n",
        "\n",
        "  <main>\n",
        "    <article>\n",
        "      <header>\n",
        "        <h2>Blog Post Title</h2>\n",
        "        <p>By Author | Date</p>\n",
        "      </header>\n",
        "      <section>\n",
        "        <p>Main content of the blog post...</p>\n",
        "      </section>\n",
        "      <footer>\n",
        "        <p>Tags: HTML, CSS</p>\n",
        "      </footer>\n",
        "    </article>\n",
        "\n",
        "    <aside>\n",
        "      <h3>About the Author</h3>\n",
        "      <p>Short bio...</p>\n",
        "    </aside>\n",
        "  </main>\n",
        "\n",
        "  <footer>\n",
        "    <p>&copy; 2025 My Blog. All rights reserved.</p>\n",
        "  </footer>\n",
        "</body>\n"
      ],
      "metadata": {
        "id": "Agq-xemKdS6Q"
      },
      "execution_count": null,
      "outputs": []
    },
    {
      "cell_type": "markdown",
      "source": [
        "**Question 3:How can you make an HTML form more accessible to users with\n",
        "disabilities** ?\n",
        "\n",
        "**ANSWER-**\n",
        "Making an HTML form accessible means ensuring that users with disabilities—such as those using screen readers, keyboard navigation, or other assistive technologies—can understand, navigate, and use the form effectively.\n",
        "\n",
        "**Key Practices for Form Accessibility:**\n",
        "\n",
        "\n",
        "1. Use **`<label>`** Elements Properly\n",
        "\n",
        "What to do: Associate every input field with a <label>.\n",
        "\n",
        "How: Use the for attribute in the <label> that matches the id of the input.\n",
        "\n",
        "Why: Helps screen readers announce the label when the user focuses on the input.\n"
      ],
      "metadata": {
        "id": "sCMf0IHajKvt"
      }
    },
    {
      "cell_type": "code",
      "source": [
        "<label for=\"email\">Email Address:</label>\n",
        "<input type=\"email\" id=\"email\" name=\"email\" required>\n"
      ],
      "metadata": {
        "id": "NLL0c6RQkOS-"
      },
      "execution_count": null,
      "outputs": []
    },
    {
      "cell_type": "markdown",
      "source": [
        "**2. Use Fieldsets and Legends for Grouped Inputs**\n",
        "\n",
        "What to do: Wrap related groups of inputs (e.g., radio buttons or checkboxes) in a `<fieldset>` with a `<legend>`.\n",
        "\n",
        "Why: Provides context and structure, especially for screen readers."
      ],
      "metadata": {
        "id": "IkEa8EHjkVXT"
      }
    },
    {
      "cell_type": "code",
      "source": [
        "<fieldset>\n",
        "  <legend>Choose your preferred contact method:</legend>\n",
        "  <label><input type=\"radio\" name=\"contact\" value=\"email\"> Email</label>\n",
        "  <label><input type=\"radio\" name=\"contact\" value=\"phone\"> Phone</label>\n",
        "</fieldset>\n"
      ],
      "metadata": {
        "id": "poXfUu-Ekou2"
      },
      "execution_count": null,
      "outputs": []
    },
    {
      "cell_type": "markdown",
      "source": [
        "**3. Use ARIA (Accessible Rich Internet Applications) Attributes Where Needed**\n",
        "\n",
        "Examples: aria-required, aria-describedby, aria-invalid.\n",
        "\n",
        "Why: Enhances accessibility when native HTML lacks enough detail."
      ],
      "metadata": {
        "id": "es9clrq3ku1z"
      }
    },
    {
      "cell_type": "code",
      "source": [
        "<input id=\"username\" aria-describedby=\"usernameHelp\">\n",
        "<div id=\"usernameHelp\">Your username must be unique.</div>\n"
      ],
      "metadata": {
        "id": "WohL6QFukyqM"
      },
      "execution_count": null,
      "outputs": []
    },
    {
      "cell_type": "markdown",
      "source": [
        "**4. Provide Clear Instructions and Error Messages**\n",
        "\n",
        "What to do: Explain how to fill out the form and indicate required fields.\n",
        "\n",
        "Why: Users with cognitive disabilities or screen reader users benefit from explicit instructions."
      ],
      "metadata": {
        "id": "646ZIIoqk4uM"
      }
    },
    {
      "cell_type": "code",
      "source": [
        "<label for=\"password\">Password (at least 8 characters):</label>\n",
        "<input type=\"password\" id=\"password\" aria-describedby=\"passwordHint\">\n",
        "<span id=\"passwordHint\">Use a mix of letters and numbers.</span>\n"
      ],
      "metadata": {
        "id": "d95l1Nrkk9Kc"
      },
      "execution_count": null,
      "outputs": []
    },
    {
      "cell_type": "markdown",
      "source": [
        "**5. Keyboard Accessibility**\n",
        "\n",
        "What to do: Ensure all form controls are usable via keyboard (Tab, Enter, Space).\n",
        "\n",
        "Why: Users who cannot use a mouse rely on the keyboard to navigate."
      ],
      "metadata": {
        "id": "nWIpfeh1lDUN"
      }
    },
    {
      "cell_type": "markdown",
      "source": [
        "**6. Use required, type, and pattern Attributes Wisely**\n",
        "\n",
        "What to do: Use built-in HTML5 validation and enhance it with custom messages.\n",
        "\n",
        "Why: Provides helpful feedback to all users, including those using screen readers."
      ],
      "metadata": {
        "id": "pvyYWvC4lOZe"
      }
    },
    {
      "cell_type": "code",
      "source": [
        "<input type=\"email\" id=\"email\" name=\"email\" required>\n"
      ],
      "metadata": {
        "id": "XwZFzGqPlSAu"
      },
      "execution_count": null,
      "outputs": []
    },
    {
      "cell_type": "markdown",
      "source": [
        "**7. Readable Contrast and Font Sizes**\n",
        "\n",
        "What to do: Use high-contrast colors and legible font sizes.\n",
        "\n",
        "Why: Assists users with visual impairments."
      ],
      "metadata": {
        "id": "N0KNjBrslW5G"
      }
    },
    {
      "cell_type": "markdown",
      "source": [
        "**Question 4: Identify and correct the errors in the following CSS code:**\n",
        "\n",
        "`p {`\n",
        " `font-size: 16;`\n",
        "` color: #333`\n",
        " `margin-top 10px;`\n",
        "`}`\n",
        "\n",
        "**ANSWER-**\n",
        "\n",
        "**Identified Errors:**\n",
        "\n",
        "**Missing unit in font-size: 16;**\n",
        "\n",
        "Error: CSS requires a unit (e.g., px, em, rem) for font size unless using a keyword.\n",
        "\n",
        "Fix: font-size: 16px;\n",
        "\n",
        "**Missing semicolon after color: #333**\n",
        "\n",
        "Error: CSS rules must end with a semicolon unless it's the last property, but it's still best practice to include it.\n",
        "\n",
        "Fix: color: #333;\n",
        "\n",
        "**Missing colon in margin-top 10px;**\n",
        "\n",
        "Error: CSS property and value must be separated by a colon.\n",
        "\n",
        "Fix: margin-top: 10px;\n",
        "\n",
        "**Corrected CSS Code:**\n"
      ],
      "metadata": {
        "id": "-_ipthxyldzR"
      }
    },
    {
      "cell_type": "code",
      "source": [
        "p {\n",
        "  font-size: 16px;\n",
        "  color: #333;\n",
        "  margin-top: 10px;\n",
        "}\n"
      ],
      "metadata": {
        "id": "6yRD7Jpvm11i"
      },
      "execution_count": null,
      "outputs": []
    },
    {
      "cell_type": "markdown",
      "source": [
        "**Question 5: Write CSS rules to style all `<h2>` elements inside a ` <section> ` with a blue color and center alignment.**\n",
        "\n",
        "**ANSWER-**\n",
        "**CSS Code:**\n"
      ],
      "metadata": {
        "id": "3jXknPuDm8dG"
      }
    },
    {
      "cell_type": "code",
      "source": [
        "section h2 {\n",
        "  color: blue;\n",
        "  text-align: center;\n",
        "}\n"
      ],
      "metadata": {
        "id": "RrGKUQORnyUc"
      },
      "execution_count": null,
      "outputs": []
    },
    {
      "cell_type": "markdown",
      "source": [
        " **Explanation:**\n",
        "\n",
        "section h2: This selector targets all `<h2>` elements that are inside a `<section>` element.\n",
        "\n",
        "color: blue;: Sets the text color of those `<h2>` elements to blue.\n",
        "\n",
        "text-align: center;: Horizontally centers the text within its container.\n",
        "\n",
        "This rule ensures that all `<h2>` headings within any `<section>` are styled consistently as specified."
      ],
      "metadata": {
        "id": "0ckzdS0qn2US"
      }
    },
    {
      "cell_type": "markdown",
      "source": [
        "**Question 6:Explain the CSS box model and its components.**\n",
        "\n",
        "**ANSWER-**\n",
        "What is the CSS Box Model?\n",
        "\n",
        "The CSS box model is a fundamental concept that describes how HTML elements are structured and how spacing and sizing work in CSS. Every element on a webpage is considered a box, and this model defines the space the element occupies, including content, padding, borders, and margins."
      ],
      "metadata": {
        "id": "b6o6AS3_oyCj"
      }
    },
    {
      "cell_type": "markdown",
      "source": [
        "**Components of the CSS Box Model:**\n",
        "\n",
        "**1. Content**\n",
        "\n",
        "The innermost part of the box.\n",
        "\n",
        "Contains the actual text, images, or other content.\n",
        "\n",
        "Size can be controlled with properties like width and height.\n",
        "\n",
        "**2. Padding**\n",
        "\n",
        "Space between the content and the border.\n",
        "\n",
        "Adds internal spacing inside the element.\n",
        "\n",
        "Background color extends into the padding area.\n",
        "\n",
        "Controlled with padding, padding-top, padding-right, etc.\n",
        "\n",
        "**3. Border**\n",
        "\n",
        "A line that wraps around the padding and content.\n",
        "\n",
        "Can have different styles (solid, dashed, none) and thickness.\n",
        "\n",
        "Controlled with border, border-width, border-color, etc.\n",
        "\n",
        "**4. Margin**\n",
        "\n",
        "Space outside the border of the element.\n",
        "\n",
        "Creates spacing between this element and others.\n",
        "\n",
        "Does not have a background color.\n",
        "\n",
        "Controlled with margin, margin-top, margin-right, etc.\n",
        "\n",
        "**Visual Representation:**"
      ],
      "metadata": {
        "id": "f-aUopnHpnL9"
      }
    },
    {
      "cell_type": "code",
      "source": [
        "+---------------------------+\n",
        "|        Margin             |\n",
        "|  +---------------------+  |\n",
        "|  |     Border          |  |\n",
        "|  |  +---------------+  |  |\n",
        "|  |  |   Padding     |  |  |\n",
        "|  |  |  +---------+  |  |  |\n",
        "|  |  |  | Content |  |  |  |\n",
        "|  |  |  +---------+  |  |  |\n",
        "|  |  +---------------+  |  |\n",
        "|  +---------------------+  |\n",
        "+---------------------------+\n"
      ],
      "metadata": {
        "id": "cHM0mTDTqDI7"
      },
      "execution_count": null,
      "outputs": []
    },
    {
      "cell_type": "markdown",
      "source": [
        "**Example in CSS:**"
      ],
      "metadata": {
        "id": "Rrb0WshIqI9d"
      }
    },
    {
      "cell_type": "code",
      "source": [
        "div {\n",
        "  width: 200px;\n",
        "  padding: 10px;\n",
        "  border: 2px solid black;\n",
        "  margin: 20px;\n",
        "}\n"
      ],
      "metadata": {
        "id": "e4aJwG_gqPA8"
      },
      "execution_count": null,
      "outputs": []
    },
    {
      "cell_type": "markdown",
      "source": [
        "Total width = content (200px) + left/right padding (20px) + left/right border (4px) + left/right margin (40px) = 264px\n",
        "\n",
        "**Why the Box Model Matters:**\n",
        "\n",
        "1. Essential for layout and spacing in web design.\n",
        "2. Helps prevent unexpected overlapping or misalignment.\n",
        "3. Understanding it is key to mastering CSS positioning, alignment, and responsive design."
      ],
      "metadata": {
        "id": "XGKBlB1DqRMT"
      }
    },
    {
      "cell_type": "markdown",
      "source": [
        "**Question 7:How do the relative, absolute, and fixed positioning properties differ in CSS?**\n",
        "\n",
        "**ANSWER-**\n",
        "In CSS, the position property determines how an element is placed in the document flow. The values relative, absolute, and fixed each behave differently in terms of positioning and layout.\n",
        "\n",
        "1.**Position: Relative**\n",
        "\n",
        "What it does: Positions the element relative to its normal position in the document flow.\n",
        "\n",
        "Effect: The element still occupies its original space, but you can shift it using top, right, bottom, or left.\n",
        "\n",
        "Use case: Slight adjustments to an element's position without removing it from the document flow.\n"
      ],
      "metadata": {
        "id": "-ecxiFkkqrUs"
      }
    },
    {
      "cell_type": "code",
      "source": [
        ".relative-box {\n",
        "  position: relative;\n",
        "  top: 10px;\n",
        "  left: 20px;\n",
        "}\n"
      ],
      "metadata": {
        "id": "ewHgEi-3rih1"
      },
      "execution_count": null,
      "outputs": []
    },
    {
      "cell_type": "markdown",
      "source": [
        "The element moves 10px down and 20px to the right but leaves its original space intact."
      ],
      "metadata": {
        "id": "NXXJoIeErjh4"
      }
    },
    {
      "cell_type": "markdown",
      "source": [
        "**2. Position: Absolute**\n",
        "\n",
        "What it does: Positions the element relative to the nearest positioned ancestor (i.e. the closest parent with position: relative, absolute, or fixed).\n",
        "\n",
        "Effect: The element is removed from the normal document flow and does not affect surrounding elements.\n",
        "\n",
        "Use case: Precise placement inside a container."
      ],
      "metadata": {
        "id": "BtMaJmt5rnSn"
      }
    },
    {
      "cell_type": "code",
      "source": [
        ".parent {\n",
        "  position: relative;\n",
        "}\n",
        "\n",
        ".child {\n",
        "  position: absolute;\n",
        "  top: 0;\n",
        "  right: 0;\n",
        "}\n"
      ],
      "metadata": {
        "id": "UOmBJq6Br2r4"
      },
      "execution_count": null,
      "outputs": []
    },
    {
      "cell_type": "markdown",
      "source": [
        " The .child element is positioned at the top-right corner of .parent."
      ],
      "metadata": {
        "id": "NnW6ElbRr4-j"
      }
    },
    {
      "cell_type": "markdown",
      "source": [
        " **3. position: fixed**\n",
        "\n",
        "What it does: Positions the element relative to the browser window.\n",
        "\n",
        "Effect: The element stays in place even when the page is scrolled.\n",
        "\n",
        "Use case: Sticky navigation bars, floating buttons, or banners."
      ],
      "metadata": {
        "id": "ZRRXle7pr-h3"
      }
    },
    {
      "cell_type": "code",
      "source": [
        ".fixed-banner {\n",
        "  position: fixed;\n",
        "  bottom: 0;\n",
        "  right: 0;\n",
        "}\n"
      ],
      "metadata": {
        "id": "E1h_XcFzsKNa"
      },
      "execution_count": null,
      "outputs": []
    },
    {
      "cell_type": "markdown",
      "source": [
        " The banner stays in the bottom-right corner of the screen, no matter how much you scroll."
      ],
      "metadata": {
        "id": "2obX-_EksLPC"
      }
    },
    {
      "cell_type": "markdown",
      "source": [
        "**Question 8: Write a CSS rule to set a background image for a `<div>` with the class .banner, ensuring the image covers the entire area without repeating.**\n",
        "\n",
        "**ANSWER-**\n",
        " CSS Rule:\n"
      ],
      "metadata": {
        "id": "ZboSvDwAsTUZ"
      }
    },
    {
      "cell_type": "code",
      "source": [
        ".banner {\n",
        "  background-image: url('your-image.jpg');\n",
        "  background-repeat: no-repeat;\n",
        "  background-size: cover;\n",
        "  background-position: center;\n",
        "}"
      ],
      "metadata": {
        "id": "I6ZFrv26swhB"
      },
      "execution_count": null,
      "outputs": []
    },
    {
      "cell_type": "markdown",
      "source": [
        "**Explanation:**\n",
        "\n",
        "**1. background-image:** Specifies the image to use as the background.\n",
        "\n",
        "**2. background-repeat:** no-repeat; Prevents the image from repeating.\n",
        "\n",
        "**3. background-size:** cover; Scales the image to completely cover the element, possibly cropping the image.\n",
        "\n",
        "**4. background-position:**center; Centers the image within the element for better visual alignment.\n",
        "\n",
        " Replace 'your-image.jpg' with the actual path or URL to your image file."
      ],
      "metadata": {
        "id": "vHw2earFtE1k"
      }
    }
  ]
}