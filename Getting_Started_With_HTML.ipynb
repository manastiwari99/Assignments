{
  "nbformat": 4,
  "nbformat_minor": 0,
  "metadata": {
    "colab": {
      "provenance": []
    },
    "kernelspec": {
      "name": "python3",
      "display_name": "Python 3"
    },
    "language_info": {
      "name": "python"
    }
  },
  "cells": [
    {
      "cell_type": "markdown",
      "source": [
        "**Qus -01- Write a simple program in HTML  that displays the heading \"HTML defines the content and structure of your website” on the web browser?**\n",
        "\n",
        "**ANS- **\n"
      ],
      "metadata": {
        "id": "Ng2YY8v3aTvu"
      }
    },
    {
      "cell_type": "code",
      "source": [
        "<!DOCTYPE html>\n",
        "<html>\n",
        "<head>\n",
        "    <title>Simple HTML Heading</title>\n",
        "</head>\n",
        "<body>\n",
        "    <h1>HTML defines the content and structure of your website</h1>\n",
        "</body>\n",
        "</html>\n"
      ],
      "metadata": {
        "id": "rWGc2asgbYOH"
      },
      "execution_count": null,
      "outputs": []
    },
    {
      "cell_type": "markdown",
      "source": [
        "**Qus -02- Explain the purpose of comments in HTML and provide an example of how to use comments in an HTML document?**\n",
        "\n",
        "**ANS -**  Comments in HTML are used to add notes or explanations within the code that are not displayed on the web page. They are helpful for:\n",
        "\n",
        "\n",
        "*   Explaining sections of code to make it easier to understand.\n",
        "*   Leaving reminders for yourself or other developers.\n",
        "*   Temporarily disabling code without deleting it.\n",
        "\n",
        "Example of comments in an HTML document is given below:\n",
        "\n",
        "\n",
        "\n",
        "\n",
        "\n",
        "\n",
        "\n",
        "\n"
      ],
      "metadata": {
        "id": "X_9ZXM_ybdqC"
      }
    },
    {
      "cell_type": "code",
      "source": [
        "<!DOCTYPE html>\n",
        "<html>\n",
        "<head>\n",
        "    <title>Comment Example</title>\n",
        "</head>\n",
        "<body>\n",
        "    <!-- This is the main heading of the page -->\n",
        "    <h1>Welcome to My Website</h1>\n",
        "\n",
        "    <!-- The following paragraph explains the purpose of the site -->\n",
        "    <p>This website is a simple example to demonstrate HTML comments.</p>\n",
        "\n",
        "    <!-- <p>This paragraph is currently not needed and has been commented out.</p> -->\n",
        "</body>\n",
        "</html>\n"
      ],
      "metadata": {
        "id": "iS_GEKgPc0Du"
      },
      "execution_count": null,
      "outputs": []
    },
    {
      "cell_type": "markdown",
      "source": [
        "**Qus -03- Write an HTML program that includes a heading, a paragraph of text, a horizontal line, and a line break. Arrange these elements to create a simple web page layout?**\n",
        "\n",
        "**ANS-**"
      ],
      "metadata": {
        "id": "VmZgX3axdM2N"
      }
    },
    {
      "cell_type": "code",
      "source": [
        "<!DOCTYPE html>\n",
        "<html>\n",
        "<head>\n",
        "    <title>Simple Web Page Layout</title>\n",
        "</head>\n",
        "<body>\n",
        "    <!-- Heading -->\n",
        "    <h1>Welcome to My  Web Page</h1>\n",
        "\n",
        "    <!-- Horizontal line -->\n",
        "    <hr>\n",
        "\n",
        "    <!-- Paragraph -->\n",
        "    <p>\n",
        "        This is a paragraph of text that describes the content of the web page.<br>\n",
        "        It includes a line break to separate this sentence from the next.\n",
        "    </p>\n",
        "\n",
        "    <!-- Horizontal line for layout separation -->\n",
        "    <hr>\n",
        "\n",
        "    <!-- Additional content -->\n",
        "    <p>Thank you for visiting!</p>\n",
        "</body>\n",
        "</html>\n"
      ],
      "metadata": {
        "id": "7FnZUI_leAfx"
      },
      "execution_count": null,
      "outputs": []
    },
    {
      "cell_type": "markdown",
      "source": [
        "**Qus -04- Write a short note on Tag and element with an example?**\n",
        "\n",
        "**ANS- **\n",
        "**Tag:**\n",
        "A tag is a keyword in HTML that defines how web content should be structured or displayed. Tags are enclosed in angle brackets (<>) and usually come in pairs: an opening tag (<>) and a closing tag(</>).\n",
        "\n",
        "`Some tags are self-closing, like <br>, <hr>, <img>, <input>, <meta>, <link>.`\n",
        "\n",
        "**Element:**\n",
        "An element includes the opening tag, the content, and the closing tag. It represents the complete structure.\n",
        "\n",
        "**Example:**"
      ],
      "metadata": {
        "id": "p83y8GqgeSJ7"
      }
    },
    {
      "cell_type": "code",
      "source": [
        "<p>This is a paragraph.</p>\n"
      ],
      "metadata": {
        "id": "Di8JSE4LfaOF"
      },
      "execution_count": null,
      "outputs": []
    },
    {
      "cell_type": "markdown",
      "source": [
        "`<p> is the opening tag`\n",
        "\n",
        "This is a paragraph. is the content\n",
        "\n",
        "`</p> is the closing tag`\n",
        "\n",
        "`The entire line <p>This is a paragraph.</p> is an HTML element`\n",
        "\n",
        "So, in short:\n",
        "\n",
        "Tag is just the markup.\n",
        "\n",
        "Element is the tag plus content."
      ],
      "metadata": {
        "id": "ENGM7vj_fcKb"
      }
    },
    {
      "cell_type": "markdown",
      "source": [
        "**Qus -05- C What is the DOCTYPE Declaration in HTML?**\n",
        "\n",
        "**Ans- **\n",
        "The <!DOCTYPE> declaration is an instruction at the very top of an HTML document that tells the web browser what version of HTML the page is written in. It helps the browser render the content correctly.\n",
        "\n",
        "**Key Points:**\n",
        "\n",
        "*   It is not an HTML tag — it’s a declaration.\n",
        "*   It must appear before the <html> tag.\n",
        "*   It ensures the browser uses standards mode (rather than quirks mode) to display the page properly.\n",
        "\n",
        "\n",
        "For HTML5 (the current standard), the declaration is:\n",
        "\n",
        "\n",
        "\n",
        "\n",
        "\n",
        "\n"
      ],
      "metadata": {
        "id": "HFk597QKiwc7"
      }
    },
    {
      "cell_type": "code",
      "source": [
        "<!DOCTYPE html>\n"
      ],
      "metadata": {
        "id": "rSVCJxQcjuEL"
      },
      "execution_count": null,
      "outputs": []
    },
    {
      "cell_type": "markdown",
      "source": [
        "This version is simple and doesn’t require a full URL or version info like in older HTML versions.\n",
        "\n",
        "Example:"
      ],
      "metadata": {
        "id": "JUgHlTmsjxap"
      }
    },
    {
      "cell_type": "code",
      "source": [
        "<!DOCTYPE html>\n",
        "<html>\n",
        "<head>\n",
        "    <title>Sample Page</title>\n",
        "</head>\n",
        "<body>\n",
        "    <h1>Hello, World!</h1>\n",
        "</body>\n",
        "</html>\n"
      ],
      "metadata": {
        "id": "jcR5FCnhj2Fv"
      },
      "execution_count": null,
      "outputs": []
    }
  ]
}